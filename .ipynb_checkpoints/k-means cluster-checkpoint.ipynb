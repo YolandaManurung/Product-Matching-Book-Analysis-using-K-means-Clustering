{
 "cells": [
  {
   "cell_type": "code",
   "execution_count": 46,
   "metadata": {},
   "outputs": [],
   "source": [
    "import pandas as pd\n",
    "import numpy as np\n",
    "from sklearn.cluster import KMeans\n",
    "from sklearn.preprocessing import LabelEncoder\n",
    "from sklearn.preprocessing import MinMaxScaler\n",
    "import seaborn as sns\n",
    "import matplotlib.pyplot as plt\n",
    "from sklearn.model_selection import train_test_split\n",
    "%matplotlib inline"
   ]
  },
  {
   "cell_type": "code",
   "execution_count": 2,
   "metadata": {},
   "outputs": [],
   "source": [
    "import warnings\n",
    "warnings.filterwarnings(\"ignore\")"
   ]
  },
  {
   "cell_type": "code",
   "execution_count": 121,
   "metadata": {},
   "outputs": [
    {
     "name": "stdout",
     "output_type": "stream",
     "text": [
      "Banyak data = 21559\n"
     ]
    },
    {
     "data": {
      "text/html": [
       "<div>\n",
       "<style scoped>\n",
       "    .dataframe tbody tr th:only-of-type {\n",
       "        vertical-align: middle;\n",
       "    }\n",
       "\n",
       "    .dataframe tbody tr th {\n",
       "        vertical-align: top;\n",
       "    }\n",
       "\n",
       "    .dataframe thead th {\n",
       "        text-align: right;\n",
       "    }\n",
       "</style>\n",
       "<table border=\"1\" class=\"dataframe\">\n",
       "  <thead>\n",
       "    <tr style=\"text-align: right;\">\n",
       "      <th></th>\n",
       "      <th>book_title</th>\n",
       "      <th>Book_series</th>\n",
       "      <th>book_series_url</th>\n",
       "      <th>book_image</th>\n",
       "      <th>book_image_url</th>\n",
       "      <th>book_rating</th>\n",
       "      <th>book_author</th>\n",
       "      <th>author_url</th>\n",
       "      <th>genre</th>\n",
       "      <th>reviewer_name</th>\n",
       "      <th>reviewer_url</th>\n",
       "      <th>reviewer_image</th>\n",
       "      <th>reviewer_image_url</th>\n",
       "      <th>review</th>\n",
       "      <th>ID</th>\n",
       "    </tr>\n",
       "  </thead>\n",
       "  <tbody>\n",
       "    <tr>\n",
       "      <th>0</th>\n",
       "      <td>A Court of Wings and Ruin</td>\n",
       "      <td>(A Court of Thorns and Roses #3)</td>\n",
       "      <td>https://www.goodreads.com/series/104014-a-cour...</td>\n",
       "      <td>https://images.gr-assets.com/books/1485528243l...</td>\n",
       "      <td>https://www.goodreads.com/book/photo/23766634-...</td>\n",
       "      <td>4.51</td>\n",
       "      <td>Sarah J. Maas</td>\n",
       "      <td>https://www.goodreads.com/author/show/3433047....</td>\n",
       "      <td>Fantasy, Romance, Young Adult, New Adult</td>\n",
       "      <td>emma</td>\n",
       "      <td>https://www.goodreads.com/user/show/32879029-emma</td>\n",
       "      <td>https://images.gr-assets.com/users/1520568130p...</td>\n",
       "      <td>https://www.goodreads.com/user/show/32879029-emma</td>\n",
       "      <td>202.\\r\\nThat’s the number of times that the wo...</td>\n",
       "      <td>1</td>\n",
       "    </tr>\n",
       "    <tr>\n",
       "      <th>1</th>\n",
       "      <td>A Court of Wings and Ruin</td>\n",
       "      <td>(A Court of Thorns and Roses #3)</td>\n",
       "      <td>https://www.goodreads.com/series/104014-a-cour...</td>\n",
       "      <td>https://images.gr-assets.com/books/1485528243l...</td>\n",
       "      <td>https://www.goodreads.com/book/photo/23766634-...</td>\n",
       "      <td>4.51</td>\n",
       "      <td>Sarah J. Maas</td>\n",
       "      <td>https://www.goodreads.com/author/show/3433047....</td>\n",
       "      <td>Fantasy, Romance, Young Adult, New Adult</td>\n",
       "      <td>Em (RunawayWithDreamthieves)</td>\n",
       "      <td>https://www.goodreads.com/user/show/42130592-e...</td>\n",
       "      <td>https://images.gr-assets.com/users/1538507799p...</td>\n",
       "      <td>https://www.goodreads.com/user/show/42130592-e...</td>\n",
       "      <td>I need a black silk robe and a balcony to wear...</td>\n",
       "      <td>2</td>\n",
       "    </tr>\n",
       "    <tr>\n",
       "      <th>2</th>\n",
       "      <td>A Court of Wings and Ruin</td>\n",
       "      <td>(A Court of Thorns and Roses #3)</td>\n",
       "      <td>https://www.goodreads.com/series/104014-a-cour...</td>\n",
       "      <td>https://images.gr-assets.com/books/1485528243l...</td>\n",
       "      <td>https://www.goodreads.com/book/photo/23766634-...</td>\n",
       "      <td>4.51</td>\n",
       "      <td>Sarah J. Maas</td>\n",
       "      <td>https://www.goodreads.com/author/show/3433047....</td>\n",
       "      <td>Fantasy, Romance, Young Adult, New Adult</td>\n",
       "      <td>Cait • A Page with a View</td>\n",
       "      <td>https://www.goodreads.com/user/show/47412532-c...</td>\n",
       "      <td>https://images.gr-assets.com/users/1523134490p...</td>\n",
       "      <td>https://www.goodreads.com/user/show/47412532-c...</td>\n",
       "      <td>THIS BOOK TOTALLY WRECKED ME. In the best poss...</td>\n",
       "      <td>3</td>\n",
       "    </tr>\n",
       "    <tr>\n",
       "      <th>3</th>\n",
       "      <td>A Court of Wings and Ruin</td>\n",
       "      <td>(A Court of Thorns and Roses #3)</td>\n",
       "      <td>https://www.goodreads.com/series/104014-a-cour...</td>\n",
       "      <td>https://images.gr-assets.com/books/1485528243l...</td>\n",
       "      <td>https://www.goodreads.com/book/photo/23766634-...</td>\n",
       "      <td>4.51</td>\n",
       "      <td>Sarah J. Maas</td>\n",
       "      <td>https://www.goodreads.com/author/show/3433047....</td>\n",
       "      <td>Fantasy, Romance, Young Adult, New Adult</td>\n",
       "      <td>Natalie Monroe</td>\n",
       "      <td>https://www.goodreads.com/user/show/6688207-na...</td>\n",
       "      <td>https://images.gr-assets.com/users/1339730817p...</td>\n",
       "      <td>https://www.goodreads.com/user/show/6688207-na...</td>\n",
       "      <td>3.75 stars\\r\\n\"Rhys stepped off the stairs and...</td>\n",
       "      <td>4</td>\n",
       "    </tr>\n",
       "    <tr>\n",
       "      <th>4</th>\n",
       "      <td>A Court of Wings and Ruin</td>\n",
       "      <td>(A Court of Thorns and Roses #3)</td>\n",
       "      <td>https://www.goodreads.com/series/104014-a-cour...</td>\n",
       "      <td>https://images.gr-assets.com/books/1485528243l...</td>\n",
       "      <td>https://www.goodreads.com/book/photo/23766634-...</td>\n",
       "      <td>4.51</td>\n",
       "      <td>Sarah J. Maas</td>\n",
       "      <td>https://www.goodreads.com/author/show/3433047....</td>\n",
       "      <td>Fantasy, Romance, Young Adult, New Adult</td>\n",
       "      <td>Emily May</td>\n",
       "      <td>https://www.goodreads.com/user/show/4622890-em...</td>\n",
       "      <td>https://images.gr-assets.com/users/1528390751p...</td>\n",
       "      <td>https://www.goodreads.com/user/show/4622890-em...</td>\n",
       "      <td>I wish so much that I could tell you I loved t...</td>\n",
       "      <td>5</td>\n",
       "    </tr>\n",
       "  </tbody>\n",
       "</table>\n",
       "</div>"
      ],
      "text/plain": [
       "                  book_title                       Book_series  \\\n",
       "0  A Court of Wings and Ruin  (A Court of Thorns and Roses #3)   \n",
       "1  A Court of Wings and Ruin  (A Court of Thorns and Roses #3)   \n",
       "2  A Court of Wings and Ruin  (A Court of Thorns and Roses #3)   \n",
       "3  A Court of Wings and Ruin  (A Court of Thorns and Roses #3)   \n",
       "4  A Court of Wings and Ruin  (A Court of Thorns and Roses #3)   \n",
       "\n",
       "                                     book_series_url  \\\n",
       "0  https://www.goodreads.com/series/104014-a-cour...   \n",
       "1  https://www.goodreads.com/series/104014-a-cour...   \n",
       "2  https://www.goodreads.com/series/104014-a-cour...   \n",
       "3  https://www.goodreads.com/series/104014-a-cour...   \n",
       "4  https://www.goodreads.com/series/104014-a-cour...   \n",
       "\n",
       "                                          book_image  \\\n",
       "0  https://images.gr-assets.com/books/1485528243l...   \n",
       "1  https://images.gr-assets.com/books/1485528243l...   \n",
       "2  https://images.gr-assets.com/books/1485528243l...   \n",
       "3  https://images.gr-assets.com/books/1485528243l...   \n",
       "4  https://images.gr-assets.com/books/1485528243l...   \n",
       "\n",
       "                                      book_image_url  book_rating  \\\n",
       "0  https://www.goodreads.com/book/photo/23766634-...         4.51   \n",
       "1  https://www.goodreads.com/book/photo/23766634-...         4.51   \n",
       "2  https://www.goodreads.com/book/photo/23766634-...         4.51   \n",
       "3  https://www.goodreads.com/book/photo/23766634-...         4.51   \n",
       "4  https://www.goodreads.com/book/photo/23766634-...         4.51   \n",
       "\n",
       "     book_author                                         author_url  \\\n",
       "0  Sarah J. Maas  https://www.goodreads.com/author/show/3433047....   \n",
       "1  Sarah J. Maas  https://www.goodreads.com/author/show/3433047....   \n",
       "2  Sarah J. Maas  https://www.goodreads.com/author/show/3433047....   \n",
       "3  Sarah J. Maas  https://www.goodreads.com/author/show/3433047....   \n",
       "4  Sarah J. Maas  https://www.goodreads.com/author/show/3433047....   \n",
       "\n",
       "                                      genre                 reviewer_name  \\\n",
       "0  Fantasy, Romance, Young Adult, New Adult                          emma   \n",
       "1  Fantasy, Romance, Young Adult, New Adult  Em (RunawayWithDreamthieves)   \n",
       "2  Fantasy, Romance, Young Adult, New Adult     Cait • A Page with a View   \n",
       "3  Fantasy, Romance, Young Adult, New Adult                Natalie Monroe   \n",
       "4  Fantasy, Romance, Young Adult, New Adult                     Emily May   \n",
       "\n",
       "                                        reviewer_url  \\\n",
       "0  https://www.goodreads.com/user/show/32879029-emma   \n",
       "1  https://www.goodreads.com/user/show/42130592-e...   \n",
       "2  https://www.goodreads.com/user/show/47412532-c...   \n",
       "3  https://www.goodreads.com/user/show/6688207-na...   \n",
       "4  https://www.goodreads.com/user/show/4622890-em...   \n",
       "\n",
       "                                      reviewer_image  \\\n",
       "0  https://images.gr-assets.com/users/1520568130p...   \n",
       "1  https://images.gr-assets.com/users/1538507799p...   \n",
       "2  https://images.gr-assets.com/users/1523134490p...   \n",
       "3  https://images.gr-assets.com/users/1339730817p...   \n",
       "4  https://images.gr-assets.com/users/1528390751p...   \n",
       "\n",
       "                                  reviewer_image_url  \\\n",
       "0  https://www.goodreads.com/user/show/32879029-emma   \n",
       "1  https://www.goodreads.com/user/show/42130592-e...   \n",
       "2  https://www.goodreads.com/user/show/47412532-c...   \n",
       "3  https://www.goodreads.com/user/show/6688207-na...   \n",
       "4  https://www.goodreads.com/user/show/4622890-em...   \n",
       "\n",
       "                                              review  ID  \n",
       "0  202.\\r\\nThat’s the number of times that the wo...   1  \n",
       "1  I need a black silk robe and a balcony to wear...   2  \n",
       "2  THIS BOOK TOTALLY WRECKED ME. In the best poss...   3  \n",
       "3  3.75 stars\\r\\n\"Rhys stepped off the stairs and...   4  \n",
       "4  I wish so much that I could tell you I loved t...   5  "
      ]
     },
     "execution_count": 121,
     "metadata": {},
     "output_type": "execute_result"
    }
   ],
   "source": [
    "data = pd.read_csv(\"./all_data.csv\")\n",
    "print ('Banyak data =', len(data))\n",
    "data.head()"
   ]
  },
  {
   "cell_type": "code",
   "execution_count": 122,
   "metadata": {},
   "outputs": [
    {
     "data": {
      "text/plain": [
       "book_title                0\n",
       "Book_series           12779\n",
       "book_series_url       12779\n",
       "book_image                2\n",
       "book_image_url            2\n",
       "book_rating               0\n",
       "book_author               0\n",
       "author_url                0\n",
       "genre                   121\n",
       "reviewer_name            25\n",
       "reviewer_url             25\n",
       "reviewer_image           25\n",
       "reviewer_image_url       25\n",
       "review                  742\n",
       "ID                        0\n",
       "dtype: int64"
      ]
     },
     "execution_count": 122,
     "metadata": {},
     "output_type": "execute_result"
    }
   ],
   "source": [
    "data.isnull().sum()"
   ]
  },
  {
   "cell_type": "code",
   "execution_count": 123,
   "metadata": {},
   "outputs": [],
   "source": [
    "data['Book_series'] = data['Book_series'].fillna(data['Book_series'].mode().iloc[0])\n",
    "data['book_series_url'] = data['book_series_url'].fillna(data['book_series_url'].mode().iloc[0])\n",
    "data['book_image'] = data['book_image'].fillna(data['book_image'].mode().iloc[0])\n",
    "data['book_image_url'] = data['book_image_url'].fillna(data['book_image_url'].mode().iloc[0])\n",
    "data['genre'] = data['genre'].fillna(data['genre'].mode().iloc[0])\n",
    "data['reviewer_name'] = data['reviewer_name'].fillna(data['reviewer_name'].mode().iloc[0])\n",
    "data['reviewer_url'] = data['reviewer_url'].fillna(data['reviewer_url'].mode().iloc[0])\n",
    "data['reviewer_image'] = data['reviewer_image'].fillna(data['reviewer_image'].mode().iloc[0])\n",
    "data['reviewer_image_url'] = data['reviewer_image_url'].fillna(data['reviewer_image_url'].mode().iloc[0])\n",
    "data['review'] = data['review'].fillna(data['review'].mode().iloc[0])"
   ]
  },
  {
   "cell_type": "code",
   "execution_count": 124,
   "metadata": {},
   "outputs": [
    {
     "data": {
      "text/plain": [
       "book_title            0\n",
       "Book_series           0\n",
       "book_series_url       0\n",
       "book_image            0\n",
       "book_image_url        0\n",
       "book_rating           0\n",
       "book_author           0\n",
       "author_url            0\n",
       "genre                 0\n",
       "reviewer_name         0\n",
       "reviewer_url          0\n",
       "reviewer_image        0\n",
       "reviewer_image_url    0\n",
       "review                0\n",
       "ID                    0\n",
       "dtype: int64"
      ]
     },
     "execution_count": 124,
     "metadata": {},
     "output_type": "execute_result"
    }
   ],
   "source": [
    "data.isnull().sum()"
   ]
  },
  {
   "cell_type": "markdown",
   "metadata": {},
   "source": [
    "#### Check Duplicate Value"
   ]
  },
  {
   "cell_type": "code",
   "execution_count": 125,
   "metadata": {},
   "outputs": [
    {
     "data": {
      "text/plain": [
       "0"
      ]
     },
     "execution_count": 125,
     "metadata": {},
     "output_type": "execute_result"
    }
   ],
   "source": [
    "data.duplicated().sum()"
   ]
  },
  {
   "cell_type": "code",
   "execution_count": 126,
   "metadata": {},
   "outputs": [
    {
     "data": {
      "text/html": [
       "<div>\n",
       "<style scoped>\n",
       "    .dataframe tbody tr th:only-of-type {\n",
       "        vertical-align: middle;\n",
       "    }\n",
       "\n",
       "    .dataframe tbody tr th {\n",
       "        vertical-align: top;\n",
       "    }\n",
       "\n",
       "    .dataframe thead th {\n",
       "        text-align: right;\n",
       "    }\n",
       "</style>\n",
       "<table border=\"1\" class=\"dataframe\">\n",
       "  <thead>\n",
       "    <tr style=\"text-align: right;\">\n",
       "      <th></th>\n",
       "      <th>book_title</th>\n",
       "      <th>Book_series</th>\n",
       "      <th>book_series_url</th>\n",
       "      <th>book_image</th>\n",
       "      <th>book_image_url</th>\n",
       "      <th>book_rating</th>\n",
       "      <th>book_author</th>\n",
       "      <th>author_url</th>\n",
       "      <th>genre</th>\n",
       "      <th>reviewer_name</th>\n",
       "      <th>reviewer_url</th>\n",
       "      <th>reviewer_image</th>\n",
       "      <th>reviewer_image_url</th>\n",
       "      <th>review</th>\n",
       "      <th>ID</th>\n",
       "    </tr>\n",
       "  </thead>\n",
       "  <tbody>\n",
       "    <tr>\n",
       "      <th>0</th>\n",
       "      <td>A Court of Wings and Ruin</td>\n",
       "      <td>(A Court of Thorns and Roses #3)</td>\n",
       "      <td>https://www.goodreads.com/series/104014-a-cour...</td>\n",
       "      <td>https://images.gr-assets.com/books/1485528243l...</td>\n",
       "      <td>https://www.goodreads.com/book/photo/23766634-...</td>\n",
       "      <td>4.51</td>\n",
       "      <td>Sarah J. Maas</td>\n",
       "      <td>https://www.goodreads.com/author/show/3433047....</td>\n",
       "      <td>Fantasy, Romance, Young Adult, New Adult</td>\n",
       "      <td>emma</td>\n",
       "      <td>https://www.goodreads.com/user/show/32879029-emma</td>\n",
       "      <td>https://images.gr-assets.com/users/1520568130p...</td>\n",
       "      <td>https://www.goodreads.com/user/show/32879029-emma</td>\n",
       "      <td>202.\\r\\nThat’s the number of times that the wo...</td>\n",
       "      <td>1</td>\n",
       "    </tr>\n",
       "    <tr>\n",
       "      <th>1</th>\n",
       "      <td>A Court of Wings and Ruin</td>\n",
       "      <td>(A Court of Thorns and Roses #3)</td>\n",
       "      <td>https://www.goodreads.com/series/104014-a-cour...</td>\n",
       "      <td>https://images.gr-assets.com/books/1485528243l...</td>\n",
       "      <td>https://www.goodreads.com/book/photo/23766634-...</td>\n",
       "      <td>4.51</td>\n",
       "      <td>Sarah J. Maas</td>\n",
       "      <td>https://www.goodreads.com/author/show/3433047....</td>\n",
       "      <td>Fantasy, Romance, Young Adult, New Adult</td>\n",
       "      <td>Em (RunawayWithDreamthieves)</td>\n",
       "      <td>https://www.goodreads.com/user/show/42130592-e...</td>\n",
       "      <td>https://images.gr-assets.com/users/1538507799p...</td>\n",
       "      <td>https://www.goodreads.com/user/show/42130592-e...</td>\n",
       "      <td>I need a black silk robe and a balcony to wear...</td>\n",
       "      <td>2</td>\n",
       "    </tr>\n",
       "    <tr>\n",
       "      <th>2</th>\n",
       "      <td>A Court of Wings and Ruin</td>\n",
       "      <td>(A Court of Thorns and Roses #3)</td>\n",
       "      <td>https://www.goodreads.com/series/104014-a-cour...</td>\n",
       "      <td>https://images.gr-assets.com/books/1485528243l...</td>\n",
       "      <td>https://www.goodreads.com/book/photo/23766634-...</td>\n",
       "      <td>4.51</td>\n",
       "      <td>Sarah J. Maas</td>\n",
       "      <td>https://www.goodreads.com/author/show/3433047....</td>\n",
       "      <td>Fantasy, Romance, Young Adult, New Adult</td>\n",
       "      <td>Cait • A Page with a View</td>\n",
       "      <td>https://www.goodreads.com/user/show/47412532-c...</td>\n",
       "      <td>https://images.gr-assets.com/users/1523134490p...</td>\n",
       "      <td>https://www.goodreads.com/user/show/47412532-c...</td>\n",
       "      <td>THIS BOOK TOTALLY WRECKED ME. In the best poss...</td>\n",
       "      <td>3</td>\n",
       "    </tr>\n",
       "    <tr>\n",
       "      <th>3</th>\n",
       "      <td>A Court of Wings and Ruin</td>\n",
       "      <td>(A Court of Thorns and Roses #3)</td>\n",
       "      <td>https://www.goodreads.com/series/104014-a-cour...</td>\n",
       "      <td>https://images.gr-assets.com/books/1485528243l...</td>\n",
       "      <td>https://www.goodreads.com/book/photo/23766634-...</td>\n",
       "      <td>4.51</td>\n",
       "      <td>Sarah J. Maas</td>\n",
       "      <td>https://www.goodreads.com/author/show/3433047....</td>\n",
       "      <td>Fantasy, Romance, Young Adult, New Adult</td>\n",
       "      <td>Natalie Monroe</td>\n",
       "      <td>https://www.goodreads.com/user/show/6688207-na...</td>\n",
       "      <td>https://images.gr-assets.com/users/1339730817p...</td>\n",
       "      <td>https://www.goodreads.com/user/show/6688207-na...</td>\n",
       "      <td>3.75 stars\\r\\n\"Rhys stepped off the stairs and...</td>\n",
       "      <td>4</td>\n",
       "    </tr>\n",
       "    <tr>\n",
       "      <th>4</th>\n",
       "      <td>A Court of Wings and Ruin</td>\n",
       "      <td>(A Court of Thorns and Roses #3)</td>\n",
       "      <td>https://www.goodreads.com/series/104014-a-cour...</td>\n",
       "      <td>https://images.gr-assets.com/books/1485528243l...</td>\n",
       "      <td>https://www.goodreads.com/book/photo/23766634-...</td>\n",
       "      <td>4.51</td>\n",
       "      <td>Sarah J. Maas</td>\n",
       "      <td>https://www.goodreads.com/author/show/3433047....</td>\n",
       "      <td>Fantasy, Romance, Young Adult, New Adult</td>\n",
       "      <td>Emily May</td>\n",
       "      <td>https://www.goodreads.com/user/show/4622890-em...</td>\n",
       "      <td>https://images.gr-assets.com/users/1528390751p...</td>\n",
       "      <td>https://www.goodreads.com/user/show/4622890-em...</td>\n",
       "      <td>I wish so much that I could tell you I loved t...</td>\n",
       "      <td>5</td>\n",
       "    </tr>\n",
       "  </tbody>\n",
       "</table>\n",
       "</div>"
      ],
      "text/plain": [
       "                  book_title                       Book_series  \\\n",
       "0  A Court of Wings and Ruin  (A Court of Thorns and Roses #3)   \n",
       "1  A Court of Wings and Ruin  (A Court of Thorns and Roses #3)   \n",
       "2  A Court of Wings and Ruin  (A Court of Thorns and Roses #3)   \n",
       "3  A Court of Wings and Ruin  (A Court of Thorns and Roses #3)   \n",
       "4  A Court of Wings and Ruin  (A Court of Thorns and Roses #3)   \n",
       "\n",
       "                                     book_series_url  \\\n",
       "0  https://www.goodreads.com/series/104014-a-cour...   \n",
       "1  https://www.goodreads.com/series/104014-a-cour...   \n",
       "2  https://www.goodreads.com/series/104014-a-cour...   \n",
       "3  https://www.goodreads.com/series/104014-a-cour...   \n",
       "4  https://www.goodreads.com/series/104014-a-cour...   \n",
       "\n",
       "                                          book_image  \\\n",
       "0  https://images.gr-assets.com/books/1485528243l...   \n",
       "1  https://images.gr-assets.com/books/1485528243l...   \n",
       "2  https://images.gr-assets.com/books/1485528243l...   \n",
       "3  https://images.gr-assets.com/books/1485528243l...   \n",
       "4  https://images.gr-assets.com/books/1485528243l...   \n",
       "\n",
       "                                      book_image_url  book_rating  \\\n",
       "0  https://www.goodreads.com/book/photo/23766634-...         4.51   \n",
       "1  https://www.goodreads.com/book/photo/23766634-...         4.51   \n",
       "2  https://www.goodreads.com/book/photo/23766634-...         4.51   \n",
       "3  https://www.goodreads.com/book/photo/23766634-...         4.51   \n",
       "4  https://www.goodreads.com/book/photo/23766634-...         4.51   \n",
       "\n",
       "     book_author                                         author_url  \\\n",
       "0  Sarah J. Maas  https://www.goodreads.com/author/show/3433047....   \n",
       "1  Sarah J. Maas  https://www.goodreads.com/author/show/3433047....   \n",
       "2  Sarah J. Maas  https://www.goodreads.com/author/show/3433047....   \n",
       "3  Sarah J. Maas  https://www.goodreads.com/author/show/3433047....   \n",
       "4  Sarah J. Maas  https://www.goodreads.com/author/show/3433047....   \n",
       "\n",
       "                                      genre                 reviewer_name  \\\n",
       "0  Fantasy, Romance, Young Adult, New Adult                          emma   \n",
       "1  Fantasy, Romance, Young Adult, New Adult  Em (RunawayWithDreamthieves)   \n",
       "2  Fantasy, Romance, Young Adult, New Adult     Cait • A Page with a View   \n",
       "3  Fantasy, Romance, Young Adult, New Adult                Natalie Monroe   \n",
       "4  Fantasy, Romance, Young Adult, New Adult                     Emily May   \n",
       "\n",
       "                                        reviewer_url  \\\n",
       "0  https://www.goodreads.com/user/show/32879029-emma   \n",
       "1  https://www.goodreads.com/user/show/42130592-e...   \n",
       "2  https://www.goodreads.com/user/show/47412532-c...   \n",
       "3  https://www.goodreads.com/user/show/6688207-na...   \n",
       "4  https://www.goodreads.com/user/show/4622890-em...   \n",
       "\n",
       "                                      reviewer_image  \\\n",
       "0  https://images.gr-assets.com/users/1520568130p...   \n",
       "1  https://images.gr-assets.com/users/1538507799p...   \n",
       "2  https://images.gr-assets.com/users/1523134490p...   \n",
       "3  https://images.gr-assets.com/users/1339730817p...   \n",
       "4  https://images.gr-assets.com/users/1528390751p...   \n",
       "\n",
       "                                  reviewer_image_url  \\\n",
       "0  https://www.goodreads.com/user/show/32879029-emma   \n",
       "1  https://www.goodreads.com/user/show/42130592-e...   \n",
       "2  https://www.goodreads.com/user/show/47412532-c...   \n",
       "3  https://www.goodreads.com/user/show/6688207-na...   \n",
       "4  https://www.goodreads.com/user/show/4622890-em...   \n",
       "\n",
       "                                              review  ID  \n",
       "0  202.\\r\\nThat’s the number of times that the wo...   1  \n",
       "1  I need a black silk robe and a balcony to wear...   2  \n",
       "2  THIS BOOK TOTALLY WRECKED ME. In the best poss...   3  \n",
       "3  3.75 stars\\r\\n\"Rhys stepped off the stairs and...   4  \n",
       "4  I wish so much that I could tell you I loved t...   5  "
      ]
     },
     "execution_count": 126,
     "metadata": {},
     "output_type": "execute_result"
    }
   ],
   "source": [
    "data['book_title'].drop_duplicates(keep=False,inplace=True)\n",
    "data.head()"
   ]
  },
  {
   "cell_type": "markdown",
   "metadata": {},
   "source": [
    "# 2. Business Understanding"
   ]
  },
  {
   "cell_type": "markdown",
   "metadata": {},
   "source": [
    "1. Bagaimana rata-rata rating buku dalam kategori genre tertentu?"
   ]
  },
  {
   "cell_type": "code",
   "execution_count": 127,
   "metadata": {},
   "outputs": [
    {
     "data": {
      "text/plain": [
       "genre\n",
       "Adult Fiction                                                                                              4.040\n",
       "Adult Fiction, Erotica, Bdsm, Dark, Romance, Contemporary, Did Not Finish                                  3.990\n",
       "Adult Fiction, Erotica, Romance, Bdsm, Contemporary                                                        3.610\n",
       "Adult Fiction, Erotica, War, Military Fiction                                                              3.830\n",
       "Anthologies, Adult Fiction, Erotica, Romance, Novella                                                      4.060\n",
       "                                                                                                           ...  \n",
       "Young Adult, Science Fiction, Dystopia, Science Fiction, Horror, Zombies, Apocalyptic, Post Apocalyptic    3.960\n",
       "Young Adult, Science Fiction, Fantasy                                                                      4.075\n",
       "Young Adult, Science Fiction, Fantasy, Dystopia                                                            3.370\n",
       "Young Adult, Science Fiction, Historical, Historical Fiction, Lgbt, Fiction                                3.220\n",
       "Young Adult, Short Stories, Contemporary, Romance                                                          4.190\n",
       "Name: book_rating, Length: 619, dtype: float64"
      ]
     },
     "execution_count": 127,
     "metadata": {},
     "output_type": "execute_result"
    }
   ],
   "source": [
    "byrating = data.groupby('genre')\n",
    "byrating['book_rating'].mean()"
   ]
  },
  {
   "cell_type": "markdown",
   "metadata": {},
   "source": [
    "2. Bagaimana rating buku yang ditulis dari author? "
   ]
  },
  {
   "cell_type": "code",
   "execution_count": 128,
   "metadata": {},
   "outputs": [
    {
     "data": {
      "text/plain": [
       "book_author\n",
       "A.L. Jackson            4.390000\n",
       "Abbi Glines             3.853729\n",
       "Abby Stern              3.320000\n",
       "Adam Alter              3.820000\n",
       "Adam M. Grant           3.890000\n",
       "                          ...   \n",
       "William Kent Krueger    3.990000\n",
       "Willow Winters          3.880000\n",
       "Zachary Mason           3.680000\n",
       "Zara Ramm               4.440000\n",
       "村上 春樹                   4.080000\n",
       "Name: book_rating, Length: 646, dtype: float64"
      ]
     },
     "execution_count": 128,
     "metadata": {},
     "output_type": "execute_result"
    }
   ],
   "source": [
    "byratingsauthor = data.groupby('book_author')\n",
    "byratingsauthor['book_rating'].mean()"
   ]
  },
  {
   "cell_type": "markdown",
   "metadata": {},
   "source": [
    "## 3. Data Preparation"
   ]
  },
  {
   "cell_type": "code",
   "execution_count": 129,
   "metadata": {},
   "outputs": [
    {
     "data": {
      "text/plain": [
       "(21559, 15)"
      ]
     },
     "execution_count": 129,
     "metadata": {},
     "output_type": "execute_result"
    }
   ],
   "source": [
    "data.shape"
   ]
  },
  {
   "cell_type": "code",
   "execution_count": 130,
   "metadata": {},
   "outputs": [
    {
     "name": "stdout",
     "output_type": "stream",
     "text": [
      "<class 'pandas.core.frame.DataFrame'>\n",
      "RangeIndex: 21559 entries, 0 to 21558\n",
      "Data columns (total 15 columns):\n",
      " #   Column              Non-Null Count  Dtype  \n",
      "---  ------              --------------  -----  \n",
      " 0   book_title          21559 non-null  object \n",
      " 1   Book_series         21559 non-null  object \n",
      " 2   book_series_url     21559 non-null  object \n",
      " 3   book_image          21559 non-null  object \n",
      " 4   book_image_url      21559 non-null  object \n",
      " 5   book_rating         21559 non-null  float64\n",
      " 6   book_author         21559 non-null  object \n",
      " 7   author_url          21559 non-null  object \n",
      " 8   genre               21559 non-null  object \n",
      " 9   reviewer_name       21559 non-null  object \n",
      " 10  reviewer_url        21559 non-null  object \n",
      " 11  reviewer_image      21559 non-null  object \n",
      " 12  reviewer_image_url  21559 non-null  object \n",
      " 13  review              21559 non-null  object \n",
      " 14  ID                  21559 non-null  int64  \n",
      "dtypes: float64(1), int64(1), object(13)\n",
      "memory usage: 2.5+ MB\n"
     ]
    }
   ],
   "source": [
    "data.info()"
   ]
  },
  {
   "cell_type": "code",
   "execution_count": 131,
   "metadata": {},
   "outputs": [
    {
     "data": {
      "text/plain": [
       "0    202.\\r\\nThat’s the number of times that the wo...\n",
       "1    I need a black silk robe and a balcony to wear...\n",
       "2    THIS BOOK TOTALLY WRECKED ME. In the best poss...\n",
       "3    3.75 stars\\r\\n\"Rhys stepped off the stairs and...\n",
       "4    I wish so much that I could tell you I loved t...\n",
       "Name: review, dtype: object"
      ]
     },
     "execution_count": 131,
     "metadata": {},
     "output_type": "execute_result"
    }
   ],
   "source": [
    "data['review'].head()"
   ]
  },
  {
   "cell_type": "markdown",
   "metadata": {},
   "source": [
    "### Data Preprocessing"
   ]
  },
  {
   "cell_type": "markdown",
   "metadata": {},
   "source": [
    "#### Remove Punctuation"
   ]
  },
  {
   "cell_type": "code",
   "execution_count": 132,
   "metadata": {},
   "outputs": [],
   "source": [
    "data[\"book_rating\"]= data[\"book_rating\"].astype(str) "
   ]
  },
  {
   "cell_type": "code",
   "execution_count": 133,
   "metadata": {},
   "outputs": [],
   "source": [
    "data['review'] = data['review'].replace('[^a-zA-Z0-9 ]', ' ', regex=True)"
   ]
  },
  {
   "cell_type": "code",
   "execution_count": 134,
   "metadata": {},
   "outputs": [
    {
     "data": {
      "text/html": [
       "<div>\n",
       "<style scoped>\n",
       "    .dataframe tbody tr th:only-of-type {\n",
       "        vertical-align: middle;\n",
       "    }\n",
       "\n",
       "    .dataframe tbody tr th {\n",
       "        vertical-align: top;\n",
       "    }\n",
       "\n",
       "    .dataframe thead th {\n",
       "        text-align: right;\n",
       "    }\n",
       "</style>\n",
       "<table border=\"1\" class=\"dataframe\">\n",
       "  <thead>\n",
       "    <tr style=\"text-align: right;\">\n",
       "      <th></th>\n",
       "      <th>book_title</th>\n",
       "      <th>review</th>\n",
       "      <th>book_rating</th>\n",
       "      <th>ID</th>\n",
       "    </tr>\n",
       "  </thead>\n",
       "  <tbody>\n",
       "    <tr>\n",
       "      <th>0</th>\n",
       "      <td>A Court of Wings and Ruin</td>\n",
       "      <td>202   That s the number of times that the word...</td>\n",
       "      <td>4.51</td>\n",
       "      <td>1</td>\n",
       "    </tr>\n",
       "    <tr>\n",
       "      <th>1</th>\n",
       "      <td>A Court of Wings and Ruin</td>\n",
       "      <td>I need a black silk robe and a balcony to wear...</td>\n",
       "      <td>4.51</td>\n",
       "      <td>2</td>\n",
       "    </tr>\n",
       "    <tr>\n",
       "      <th>2</th>\n",
       "      <td>A Court of Wings and Ruin</td>\n",
       "      <td>THIS BOOK TOTALLY WRECKED ME  In the best poss...</td>\n",
       "      <td>4.51</td>\n",
       "      <td>3</td>\n",
       "    </tr>\n",
       "    <tr>\n",
       "      <th>3</th>\n",
       "      <td>A Court of Wings and Ruin</td>\n",
       "      <td>3 75 stars   Rhys stepped off the stairs and t...</td>\n",
       "      <td>4.51</td>\n",
       "      <td>4</td>\n",
       "    </tr>\n",
       "    <tr>\n",
       "      <th>4</th>\n",
       "      <td>A Court of Wings and Ruin</td>\n",
       "      <td>I wish so much that I could tell you I loved t...</td>\n",
       "      <td>4.51</td>\n",
       "      <td>5</td>\n",
       "    </tr>\n",
       "  </tbody>\n",
       "</table>\n",
       "</div>"
      ],
      "text/plain": [
       "                  book_title  \\\n",
       "0  A Court of Wings and Ruin   \n",
       "1  A Court of Wings and Ruin   \n",
       "2  A Court of Wings and Ruin   \n",
       "3  A Court of Wings and Ruin   \n",
       "4  A Court of Wings and Ruin   \n",
       "\n",
       "                                              review book_rating  ID  \n",
       "0  202   That s the number of times that the word...        4.51   1  \n",
       "1  I need a black silk robe and a balcony to wear...        4.51   2  \n",
       "2  THIS BOOK TOTALLY WRECKED ME  In the best poss...        4.51   3  \n",
       "3  3 75 stars   Rhys stepped off the stairs and t...        4.51   4  \n",
       "4  I wish so much that I could tell you I loved t...        4.51   5  "
      ]
     },
     "execution_count": 134,
     "metadata": {},
     "output_type": "execute_result"
    }
   ],
   "source": [
    "data = data[['book_title', 'review', 'book_rating','ID']]\n",
    "data = data[pd.notnull(data['review'])]\n",
    "data.head()"
   ]
  },
  {
   "cell_type": "markdown",
   "metadata": {},
   "source": [
    "#### Case Folding"
   ]
  },
  {
   "cell_type": "code",
   "execution_count": 135,
   "metadata": {},
   "outputs": [
    {
     "data": {
      "text/html": [
       "<div>\n",
       "<style scoped>\n",
       "    .dataframe tbody tr th:only-of-type {\n",
       "        vertical-align: middle;\n",
       "    }\n",
       "\n",
       "    .dataframe tbody tr th {\n",
       "        vertical-align: top;\n",
       "    }\n",
       "\n",
       "    .dataframe thead th {\n",
       "        text-align: right;\n",
       "    }\n",
       "</style>\n",
       "<table border=\"1\" class=\"dataframe\">\n",
       "  <thead>\n",
       "    <tr style=\"text-align: right;\">\n",
       "      <th></th>\n",
       "      <th>book_title</th>\n",
       "      <th>review</th>\n",
       "      <th>book_rating</th>\n",
       "      <th>ID</th>\n",
       "    </tr>\n",
       "  </thead>\n",
       "  <tbody>\n",
       "    <tr>\n",
       "      <th>0</th>\n",
       "      <td>a court of wings and ruin</td>\n",
       "      <td>202   that s the number of times that the word...</td>\n",
       "      <td>4.51</td>\n",
       "      <td>1</td>\n",
       "    </tr>\n",
       "    <tr>\n",
       "      <th>1</th>\n",
       "      <td>a court of wings and ruin</td>\n",
       "      <td>i need a black silk robe and a balcony to wear...</td>\n",
       "      <td>4.51</td>\n",
       "      <td>2</td>\n",
       "    </tr>\n",
       "    <tr>\n",
       "      <th>2</th>\n",
       "      <td>a court of wings and ruin</td>\n",
       "      <td>this book totally wrecked me  in the best poss...</td>\n",
       "      <td>4.51</td>\n",
       "      <td>3</td>\n",
       "    </tr>\n",
       "    <tr>\n",
       "      <th>3</th>\n",
       "      <td>a court of wings and ruin</td>\n",
       "      <td>3 75 stars   rhys stepped off the stairs and t...</td>\n",
       "      <td>4.51</td>\n",
       "      <td>4</td>\n",
       "    </tr>\n",
       "    <tr>\n",
       "      <th>4</th>\n",
       "      <td>a court of wings and ruin</td>\n",
       "      <td>i wish so much that i could tell you i loved t...</td>\n",
       "      <td>4.51</td>\n",
       "      <td>5</td>\n",
       "    </tr>\n",
       "  </tbody>\n",
       "</table>\n",
       "</div>"
      ],
      "text/plain": [
       "                  book_title  \\\n",
       "0  a court of wings and ruin   \n",
       "1  a court of wings and ruin   \n",
       "2  a court of wings and ruin   \n",
       "3  a court of wings and ruin   \n",
       "4  a court of wings and ruin   \n",
       "\n",
       "                                              review book_rating  ID  \n",
       "0  202   that s the number of times that the word...        4.51   1  \n",
       "1  i need a black silk robe and a balcony to wear...        4.51   2  \n",
       "2  this book totally wrecked me  in the best poss...        4.51   3  \n",
       "3  3 75 stars   rhys stepped off the stairs and t...        4.51   4  \n",
       "4  i wish so much that i could tell you i loved t...        4.51   5  "
      ]
     },
     "execution_count": 135,
     "metadata": {},
     "output_type": "execute_result"
    }
   ],
   "source": [
    "data['book_title'] = data['book_title'].str.lower()\n",
    "data['review'] = data['review'].str.lower()\n",
    "\n",
    "data.head()"
   ]
  },
  {
   "cell_type": "markdown",
   "metadata": {},
   "source": [
    "#### Stopwords Removing"
   ]
  },
  {
   "cell_type": "code",
   "execution_count": 136,
   "metadata": {
    "scrolled": true
   },
   "outputs": [
    {
     "data": {
      "text/plain": [
       "\"i, me, my, myself, we, our, ours, ourselves, you, you're, you've, you'll, you'd, your, yours, yourself, yourselves, he, him, his, himself, she, she's, her, hers, herself, it, it's, its, itself, they, them, their, theirs, themselves, what, which, who, whom, this, that, that'll, these, those, am, is, are, was, were, be, been, being, have, has, had, having, do, does, did, doing, a, an, the, and, but, if, or, because, as, until, while, of, at, by, for, with, about, against, between, into, through, during, before, after, above, below, to, from, up, down, in, out, on, off, over, under, again, further, then, once, here, there, when, where, why, how, all, any, both, each, few, more, most, other, some, such, no, nor, not, only, own, same, so, than, too, very, s, t, can, will, just, don, don't, should, should've, now, d, ll, m, o, re, ve, y, ain, aren, aren't, couldn, couldn't, didn, didn't, doesn, doesn't, hadn, hadn't, hasn, hasn't, haven, haven't, isn, isn't, ma, mightn, mightn't, mustn, mustn't, needn, needn't, shan, shan't, shouldn, shouldn't, wasn, wasn't, weren, weren't, won, won't, wouldn, wouldn't\""
      ]
     },
     "execution_count": 136,
     "metadata": {},
     "output_type": "execute_result"
    }
   ],
   "source": [
    "from nltk.corpus import stopwords\n",
    "\", \".join(stopwords.words('english'))"
   ]
  },
  {
   "cell_type": "code",
   "execution_count": 137,
   "metadata": {},
   "outputs": [
    {
     "name": "stdout",
     "output_type": "stream",
     "text": [
      "Data trainstop words removing... \n"
     ]
    },
    {
     "data": {
      "text/html": [
       "<div>\n",
       "<style scoped>\n",
       "    .dataframe tbody tr th:only-of-type {\n",
       "        vertical-align: middle;\n",
       "    }\n",
       "\n",
       "    .dataframe tbody tr th {\n",
       "        vertical-align: top;\n",
       "    }\n",
       "\n",
       "    .dataframe thead th {\n",
       "        text-align: right;\n",
       "    }\n",
       "</style>\n",
       "<table border=\"1\" class=\"dataframe\">\n",
       "  <thead>\n",
       "    <tr style=\"text-align: right;\">\n",
       "      <th></th>\n",
       "      <th>book_title</th>\n",
       "      <th>review</th>\n",
       "      <th>book_rating</th>\n",
       "      <th>ID</th>\n",
       "    </tr>\n",
       "  </thead>\n",
       "  <tbody>\n",
       "    <tr>\n",
       "      <th>0</th>\n",
       "      <td>a court of wings and ruin</td>\n",
       "      <td>202 number times word mate hellish forms used ...</td>\n",
       "      <td>4.51</td>\n",
       "      <td>1</td>\n",
       "    </tr>\n",
       "    <tr>\n",
       "      <th>1</th>\n",
       "      <td>a court of wings and ruin</td>\n",
       "      <td>need black silk robe balcony wear gonna drag a...</td>\n",
       "      <td>4.51</td>\n",
       "      <td>2</td>\n",
       "    </tr>\n",
       "    <tr>\n",
       "      <th>2</th>\n",
       "      <td>a court of wings and ruin</td>\n",
       "      <td>book totally wrecked best possible way thrille...</td>\n",
       "      <td>4.51</td>\n",
       "      <td>3</td>\n",
       "    </tr>\n",
       "    <tr>\n",
       "      <th>3</th>\n",
       "      <td>a court of wings and ruin</td>\n",
       "      <td>3 75 stars rhys stepped stairs took hand night...</td>\n",
       "      <td>4.51</td>\n",
       "      <td>4</td>\n",
       "    </tr>\n",
       "    <tr>\n",
       "      <th>4</th>\n",
       "      <td>a court of wings and ruin</td>\n",
       "      <td>wish much could tell loved book thinking court...</td>\n",
       "      <td>4.51</td>\n",
       "      <td>5</td>\n",
       "    </tr>\n",
       "  </tbody>\n",
       "</table>\n",
       "</div>"
      ],
      "text/plain": [
       "                  book_title  \\\n",
       "0  a court of wings and ruin   \n",
       "1  a court of wings and ruin   \n",
       "2  a court of wings and ruin   \n",
       "3  a court of wings and ruin   \n",
       "4  a court of wings and ruin   \n",
       "\n",
       "                                              review book_rating  ID  \n",
       "0  202 number times word mate hellish forms used ...        4.51   1  \n",
       "1  need black silk robe balcony wear gonna drag a...        4.51   2  \n",
       "2  book totally wrecked best possible way thrille...        4.51   3  \n",
       "3  3 75 stars rhys stepped stairs took hand night...        4.51   4  \n",
       "4  wish much could tell loved book thinking court...        4.51   5  "
      ]
     },
     "execution_count": 137,
     "metadata": {},
     "output_type": "execute_result"
    }
   ],
   "source": [
    "cachedStopWords = set(stopwords.words(\"english\"))\n",
    "for i in range (len(data)):\n",
    "    meaningful = data['review'].iloc[i]\n",
    "    meaningful = \" \".join([word for word in meaningful.split() if word not in cachedStopWords])\n",
    "    data['review'].iloc[i]=meaningful\n",
    "print ('Data trainstop words removing... ')\n",
    "data.head()"
   ]
  },
  {
   "cell_type": "code",
   "execution_count": 138,
   "metadata": {},
   "outputs": [
    {
     "data": {
      "text/html": [
       "<div>\n",
       "<style scoped>\n",
       "    .dataframe tbody tr th:only-of-type {\n",
       "        vertical-align: middle;\n",
       "    }\n",
       "\n",
       "    .dataframe tbody tr th {\n",
       "        vertical-align: top;\n",
       "    }\n",
       "\n",
       "    .dataframe thead th {\n",
       "        text-align: right;\n",
       "    }\n",
       "</style>\n",
       "<table border=\"1\" class=\"dataframe\">\n",
       "  <thead>\n",
       "    <tr style=\"text-align: right;\">\n",
       "      <th></th>\n",
       "      <th>Unnamed: 0</th>\n",
       "      <th>book_title</th>\n",
       "      <th>review</th>\n",
       "      <th>book_rating</th>\n",
       "      <th>ID</th>\n",
       "    </tr>\n",
       "  </thead>\n",
       "  <tbody>\n",
       "    <tr>\n",
       "      <th>0</th>\n",
       "      <td>0</td>\n",
       "      <td>a court of wings and ruin</td>\n",
       "      <td>202 number times word mate hellish forms used ...</td>\n",
       "      <td>4.51</td>\n",
       "      <td>1</td>\n",
       "    </tr>\n",
       "    <tr>\n",
       "      <th>1</th>\n",
       "      <td>1</td>\n",
       "      <td>a court of wings and ruin</td>\n",
       "      <td>need black silk robe balcony wear gonna drag a...</td>\n",
       "      <td>4.51</td>\n",
       "      <td>2</td>\n",
       "    </tr>\n",
       "    <tr>\n",
       "      <th>2</th>\n",
       "      <td>2</td>\n",
       "      <td>a court of wings and ruin</td>\n",
       "      <td>book totally wrecked best possible way thrille...</td>\n",
       "      <td>4.51</td>\n",
       "      <td>3</td>\n",
       "    </tr>\n",
       "    <tr>\n",
       "      <th>3</th>\n",
       "      <td>3</td>\n",
       "      <td>a court of wings and ruin</td>\n",
       "      <td>3 75 stars rhys stepped stairs took hand night...</td>\n",
       "      <td>4.51</td>\n",
       "      <td>4</td>\n",
       "    </tr>\n",
       "    <tr>\n",
       "      <th>4</th>\n",
       "      <td>4</td>\n",
       "      <td>a court of wings and ruin</td>\n",
       "      <td>wish much could tell loved book thinking court...</td>\n",
       "      <td>4.51</td>\n",
       "      <td>5</td>\n",
       "    </tr>\n",
       "  </tbody>\n",
       "</table>\n",
       "</div>"
      ],
      "text/plain": [
       "   Unnamed: 0                 book_title  \\\n",
       "0           0  a court of wings and ruin   \n",
       "1           1  a court of wings and ruin   \n",
       "2           2  a court of wings and ruin   \n",
       "3           3  a court of wings and ruin   \n",
       "4           4  a court of wings and ruin   \n",
       "\n",
       "                                              review  book_rating  ID  \n",
       "0  202 number times word mate hellish forms used ...         4.51   1  \n",
       "1  need black silk robe balcony wear gonna drag a...         4.51   2  \n",
       "2  book totally wrecked best possible way thrille...         4.51   3  \n",
       "3  3 75 stars rhys stepped stairs took hand night...         4.51   4  \n",
       "4  wish much could tell loved book thinking court...         4.51   5  "
      ]
     },
     "execution_count": 138,
     "metadata": {},
     "output_type": "execute_result"
    }
   ],
   "source": [
    "data.to_csv(\"dfReview.csv\")\n",
    "data = pd.read_csv(\"dfReview.csv\")\n",
    "data.head()"
   ]
  },
  {
   "cell_type": "code",
   "execution_count": 139,
   "metadata": {},
   "outputs": [],
   "source": [
    "data.rename( columns={'Unnamed: 0':'index'}, inplace=True )"
   ]
  },
  {
   "cell_type": "markdown",
   "metadata": {},
   "source": [
    "## 4. Training Models"
   ]
  },
  {
   "cell_type": "code",
   "execution_count": 140,
   "metadata": {},
   "outputs": [
    {
     "data": {
      "text/plain": [
       "index            int64\n",
       "book_title      object\n",
       "review          object\n",
       "book_rating    float64\n",
       "ID               int64\n",
       "dtype: object"
      ]
     },
     "execution_count": 140,
     "metadata": {},
     "output_type": "execute_result"
    }
   ],
   "source": [
    "data.dtypes"
   ]
  },
  {
   "cell_type": "code",
   "execution_count": 141,
   "metadata": {},
   "outputs": [],
   "source": [
    "numerical_vars = ['book_rating','ID']"
   ]
  },
  {
   "cell_type": "code",
   "execution_count": 142,
   "metadata": {},
   "outputs": [
    {
     "data": {
      "text/plain": [
       "<Figure size 864x864 with 0 Axes>"
      ]
     },
     "metadata": {},
     "output_type": "display_data"
    },
    {
     "data": {
      "image/png": "[encoded data removed]",
      "text/plain": [
       "<Figure size 360x360 with 6 Axes>"
      ]
     },
     "metadata": {
      "needs_background": "light"
     },
     "output_type": "display_data"
    }
   ],
   "source": [
    "plt.figure(figsize=(12, 12))\n",
    "_ = sns.pairplot(data=data[numerical_vars], kind='scatter')\n",
    "#plt.savefig('scatter numerical.png')\n",
    "plt.show()"
   ]
  },
  {
   "cell_type": "code",
   "execution_count": 143,
   "metadata": {},
   "outputs": [],
   "source": [
    "train, test = train_test_split(data, test_size = 0.2, random_state = 0)"
   ]
  },
  {
   "cell_type": "code",
   "execution_count": 144,
   "metadata": {},
   "outputs": [
    {
     "name": "stdout",
     "output_type": "stream",
     "text": [
      "Jumlah data: (21559, 5)\n",
      "Jumlah data train: (17247, 5)\n",
      "Jumlah data test: (4312, 5)\n"
     ]
    }
   ],
   "source": [
    "print(\"Jumlah data: {0}\".format(data.shape))\n",
    "print(\"Jumlah data train: {0}\".format(train.shape))\n",
    "print(\"Jumlah data test: {0}\".format(test.shape))"
   ]
  },
  {
   "cell_type": "code",
   "execution_count": 145,
   "metadata": {
    "scrolled": true
   },
   "outputs": [
    {
     "data": {
      "image/png": "[encoded data removed]",
      "text/plain": [
       "<Figure size 864x432 with 1 Axes>"
      ]
     },
     "metadata": {
      "needs_background": "light"
     },
     "output_type": "display_data"
    },
    {
     "data": {
      "image/png": "[encoded data removed]",
      "text/plain": [
       "<Figure size 864x432 with 1 Axes>"
      ]
     },
     "metadata": {
      "needs_background": "light"
     },
     "output_type": "display_data"
    }
   ],
   "source": [
    "data_train = train[[\"ID\", \"book_rating\"]]\n",
    "data_test = test[[\"ID\", \"book_rating\"]]\n",
    "\n",
    "#Visualise data points\n",
    "plt.figure(figsize=(12,6))\n",
    "plt.title(\"Data Train\")\n",
    "plt.scatter(data_train[\"book_rating\"], data_train[\"ID\"])\n",
    "plt.xlabel('Rating')\n",
    "plt.ylabel('ID')\n",
    "#plt.savefig('data train.png')\n",
    "plt.show()\n",
    "\n",
    "plt.figure(figsize=(12,6))\n",
    "plt.title(\"Data Test\")\n",
    "plt.scatter(data_test[\"book_rating\"], data_test[\"ID\"])\n",
    "plt.xlabel('Rating')\n",
    "plt.ylabel('ID')\n",
    "#plt.savefig('data test.png')\n",
    "plt.show()"
   ]
  },
  {
   "cell_type": "code",
   "execution_count": 146,
   "metadata": {},
   "outputs": [
    {
     "name": "stdout",
     "output_type": "stream",
     "text": [
      "***** Train_Set *****\n",
      "              index   book_rating            ID\n",
      "count  17247.000000  17247.000000  17247.000000\n",
      "mean   10763.431901      4.018454  10764.431901\n",
      "std     6219.057146      0.316856   6219.057146\n",
      "min        0.000000      0.000000      1.000000\n",
      "25%     5355.500000      3.850000   5356.500000\n",
      "50%    10753.000000      4.050000  10754.000000\n",
      "75%    16143.000000      4.230000  16144.000000\n",
      "max    21558.000000      5.000000  21559.000000\n",
      "\n",
      "\n",
      "***** Test_Set *****\n",
      "              index  book_rating            ID\n",
      "count   4312.000000  4312.000000   4312.000000\n",
      "mean   10841.268785     4.011633  10842.268785\n",
      "std     6242.528333     0.314485   6242.528333\n",
      "min        7.000000     2.600000      8.000000\n",
      "25%     5499.750000     3.830000   5500.750000\n",
      "50%    10917.500000     4.050000  10918.500000\n",
      "75%    16267.500000     4.220000  16268.500000\n",
      "max    21557.000000     5.000000  21558.000000\n"
     ]
    }
   ],
   "source": [
    "print(\"***** Train_Set *****\")\n",
    "print(train.describe())\n",
    "print(\"\\n\")\n",
    "print(\"***** Test_Set *****\")\n",
    "print(test.describe())"
   ]
  },
  {
   "cell_type": "code",
   "execution_count": 147,
   "metadata": {
    "scrolled": false
   },
   "outputs": [
    {
     "name": "stdout",
     "output_type": "stream",
     "text": [
      "<class 'pandas.core.frame.DataFrame'>\n",
      "Int64Index: 17247 entries, 20663 to 2732\n",
      "Data columns (total 5 columns):\n",
      " #   Column       Non-Null Count  Dtype  \n",
      "---  ------       --------------  -----  \n",
      " 0   index        17247 non-null  int64  \n",
      " 1   book_title   17247 non-null  object \n",
      " 2   review       17234 non-null  object \n",
      " 3   book_rating  17247 non-null  float64\n",
      " 4   ID           17247 non-null  int64  \n",
      "dtypes: float64(1), int64(2), object(2)\n",
      "memory usage: 808.5+ KB\n"
     ]
    }
   ],
   "source": [
    "train.info()"
   ]
  },
  {
   "cell_type": "markdown",
   "metadata": {},
   "source": [
    "# Find Optimal Number of Cluster for K-means Clustering"
   ]
  },
  {
   "cell_type": "code",
   "execution_count": 148,
   "metadata": {},
   "outputs": [],
   "source": [
    "# drop atribut \"review\" karena jenis value review unik\n",
    "# sehingga tidak cocok dijadikan index untuk mencari jumlah cluster\n",
    "train = train.drop(['review'], axis=1)\n",
    "test = test.drop(['review'], axis=1)"
   ]
  },
  {
   "cell_type": "code",
   "execution_count": 149,
   "metadata": {},
   "outputs": [],
   "source": [
    "# mengubah atribut \"book_title\" menjadi numerical untuk dijadikan index\n",
    "# atribut menjadi numerical-categorical\n",
    "labelEncoder = LabelEncoder()\n",
    "labelEncoder.fit(train['book_title'])\n",
    "train['book_title'] = labelEncoder.transform(train['book_title'])"
   ]
  },
  {
   "cell_type": "code",
   "execution_count": 168,
   "metadata": {},
   "outputs": [
    {
     "data": {
      "text/plain": [
       "20663    713\n",
       "14559    293\n",
       "548      112\n",
       "9569      64\n",
       "6484     533\n",
       "Name: book_title, dtype: int32"
      ]
     },
     "execution_count": 168,
     "metadata": {},
     "output_type": "execute_result"
    }
   ],
   "source": [
    "train['book_title'].head()"
   ]
  },
  {
   "cell_type": "code",
   "execution_count": 150,
   "metadata": {},
   "outputs": [],
   "source": [
    "labelEncoder = LabelEncoder()\n",
    "labelEncoder.fit(test['book_title'])\n",
    "test['book_title'] = labelEncoder.transform(test['book_title'])"
   ]
  },
  {
   "cell_type": "code",
   "execution_count": 169,
   "metadata": {},
   "outputs": [
    {
     "data": {
      "text/plain": [
       "1985     445\n",
       "14933    439\n",
       "4777     401\n",
       "18889    596\n",
       "13803    279\n",
       "Name: book_title, dtype: int32"
      ]
     },
     "execution_count": 169,
     "metadata": {},
     "output_type": "execute_result"
    }
   ],
   "source": [
    "test['book_title'].head()"
   ]
  },
  {
   "cell_type": "code",
   "execution_count": 151,
   "metadata": {},
   "outputs": [],
   "source": [
    "categorical_features = ['book_title']\n",
    "continuous_features = ['book_rating', 'ID']"
   ]
  },
  {
   "cell_type": "code",
   "execution_count": 152,
   "metadata": {
    "scrolled": false
   },
   "outputs": [
    {
     "data": {
      "text/html": [
       "<div>\n",
       "<style scoped>\n",
       "    .dataframe tbody tr th:only-of-type {\n",
       "        vertical-align: middle;\n",
       "    }\n",
       "\n",
       "    .dataframe tbody tr th {\n",
       "        vertical-align: top;\n",
       "    }\n",
       "\n",
       "    .dataframe thead th {\n",
       "        text-align: right;\n",
       "    }\n",
       "</style>\n",
       "<table border=\"1\" class=\"dataframe\">\n",
       "  <thead>\n",
       "    <tr style=\"text-align: right;\">\n",
       "      <th></th>\n",
       "      <th>book_rating</th>\n",
       "      <th>ID</th>\n",
       "    </tr>\n",
       "  </thead>\n",
       "  <tbody>\n",
       "    <tr>\n",
       "      <th>count</th>\n",
       "      <td>17247.000000</td>\n",
       "      <td>17247.000000</td>\n",
       "    </tr>\n",
       "    <tr>\n",
       "      <th>mean</th>\n",
       "      <td>4.018454</td>\n",
       "      <td>10764.431901</td>\n",
       "    </tr>\n",
       "    <tr>\n",
       "      <th>std</th>\n",
       "      <td>0.316856</td>\n",
       "      <td>6219.057146</td>\n",
       "    </tr>\n",
       "    <tr>\n",
       "      <th>min</th>\n",
       "      <td>0.000000</td>\n",
       "      <td>1.000000</td>\n",
       "    </tr>\n",
       "    <tr>\n",
       "      <th>25%</th>\n",
       "      <td>3.850000</td>\n",
       "      <td>5356.500000</td>\n",
       "    </tr>\n",
       "    <tr>\n",
       "      <th>50%</th>\n",
       "      <td>4.050000</td>\n",
       "      <td>10754.000000</td>\n",
       "    </tr>\n",
       "    <tr>\n",
       "      <th>75%</th>\n",
       "      <td>4.230000</td>\n",
       "      <td>16144.000000</td>\n",
       "    </tr>\n",
       "    <tr>\n",
       "      <th>max</th>\n",
       "      <td>5.000000</td>\n",
       "      <td>21559.000000</td>\n",
       "    </tr>\n",
       "  </tbody>\n",
       "</table>\n",
       "</div>"
      ],
      "text/plain": [
       "        book_rating            ID\n",
       "count  17247.000000  17247.000000\n",
       "mean       4.018454  10764.431901\n",
       "std        0.316856   6219.057146\n",
       "min        0.000000      1.000000\n",
       "25%        3.850000   5356.500000\n",
       "50%        4.050000  10754.000000\n",
       "75%        4.230000  16144.000000\n",
       "max        5.000000  21559.000000"
      ]
     },
     "execution_count": 152,
     "metadata": {},
     "output_type": "execute_result"
    }
   ],
   "source": [
    "train[continuous_features].describe()"
   ]
  },
  {
   "cell_type": "code",
   "execution_count": 157,
   "metadata": {},
   "outputs": [
    {
     "name": "stdout",
     "output_type": "stream",
     "text": [
      "<class 'pandas.core.frame.DataFrame'>\n",
      "Int64Index: 17247 entries, 20663 to 2732\n",
      "Data columns (total 4 columns):\n",
      " #   Column       Non-Null Count  Dtype  \n",
      "---  ------       --------------  -----  \n",
      " 0   index        17247 non-null  int64  \n",
      " 1   book_title   17247 non-null  int32  \n",
      " 2   book_rating  17247 non-null  float64\n",
      " 3   ID           17247 non-null  int64  \n",
      "dtypes: float64(1), int32(1), int64(2)\n",
      "memory usage: 1.2 MB\n"
     ]
    }
   ],
   "source": [
    "train.info()"
   ]
  },
  {
   "cell_type": "code",
   "execution_count": 159,
   "metadata": {},
   "outputs": [
    {
     "data": {
      "text/html": [
       "<div>\n",
       "<style scoped>\n",
       "    .dataframe tbody tr th:only-of-type {\n",
       "        vertical-align: middle;\n",
       "    }\n",
       "\n",
       "    .dataframe tbody tr th {\n",
       "        vertical-align: top;\n",
       "    }\n",
       "\n",
       "    .dataframe thead th {\n",
       "        text-align: right;\n",
       "    }\n",
       "</style>\n",
       "<table border=\"1\" class=\"dataframe\">\n",
       "  <thead>\n",
       "    <tr style=\"text-align: right;\">\n",
       "      <th></th>\n",
       "      <th>index</th>\n",
       "      <th>book_rating</th>\n",
       "      <th>ID</th>\n",
       "      <th>book_title_0</th>\n",
       "      <th>book_title_1</th>\n",
       "      <th>book_title_2</th>\n",
       "      <th>book_title_3</th>\n",
       "      <th>book_title_4</th>\n",
       "      <th>book_title_5</th>\n",
       "      <th>book_title_6</th>\n",
       "      <th>...</th>\n",
       "      <th>book_title_712</th>\n",
       "      <th>book_title_713</th>\n",
       "      <th>book_title_714</th>\n",
       "      <th>book_title_715</th>\n",
       "      <th>book_title_716</th>\n",
       "      <th>book_title_717</th>\n",
       "      <th>book_title_718</th>\n",
       "      <th>book_title_719</th>\n",
       "      <th>book_title_720</th>\n",
       "      <th>book_title_721</th>\n",
       "    </tr>\n",
       "  </thead>\n",
       "  <tbody>\n",
       "    <tr>\n",
       "      <th>20663</th>\n",
       "      <td>20663</td>\n",
       "      <td>4.06</td>\n",
       "      <td>20664</td>\n",
       "      <td>0</td>\n",
       "      <td>0</td>\n",
       "      <td>0</td>\n",
       "      <td>0</td>\n",
       "      <td>0</td>\n",
       "      <td>0</td>\n",
       "      <td>0</td>\n",
       "      <td>...</td>\n",
       "      <td>0</td>\n",
       "      <td>1</td>\n",
       "      <td>0</td>\n",
       "      <td>0</td>\n",
       "      <td>0</td>\n",
       "      <td>0</td>\n",
       "      <td>0</td>\n",
       "      <td>0</td>\n",
       "      <td>0</td>\n",
       "      <td>0</td>\n",
       "    </tr>\n",
       "    <tr>\n",
       "      <th>14559</th>\n",
       "      <td>14559</td>\n",
       "      <td>4.10</td>\n",
       "      <td>14560</td>\n",
       "      <td>0</td>\n",
       "      <td>0</td>\n",
       "      <td>0</td>\n",
       "      <td>0</td>\n",
       "      <td>0</td>\n",
       "      <td>0</td>\n",
       "      <td>0</td>\n",
       "      <td>...</td>\n",
       "      <td>0</td>\n",
       "      <td>0</td>\n",
       "      <td>0</td>\n",
       "      <td>0</td>\n",
       "      <td>0</td>\n",
       "      <td>0</td>\n",
       "      <td>0</td>\n",
       "      <td>0</td>\n",
       "      <td>0</td>\n",
       "      <td>0</td>\n",
       "    </tr>\n",
       "    <tr>\n",
       "      <th>548</th>\n",
       "      <td>548</td>\n",
       "      <td>3.76</td>\n",
       "      <td>549</td>\n",
       "      <td>0</td>\n",
       "      <td>0</td>\n",
       "      <td>0</td>\n",
       "      <td>0</td>\n",
       "      <td>0</td>\n",
       "      <td>0</td>\n",
       "      <td>0</td>\n",
       "      <td>...</td>\n",
       "      <td>0</td>\n",
       "      <td>0</td>\n",
       "      <td>0</td>\n",
       "      <td>0</td>\n",
       "      <td>0</td>\n",
       "      <td>0</td>\n",
       "      <td>0</td>\n",
       "      <td>0</td>\n",
       "      <td>0</td>\n",
       "      <td>0</td>\n",
       "    </tr>\n",
       "    <tr>\n",
       "      <th>9569</th>\n",
       "      <td>9569</td>\n",
       "      <td>4.02</td>\n",
       "      <td>9570</td>\n",
       "      <td>0</td>\n",
       "      <td>0</td>\n",
       "      <td>0</td>\n",
       "      <td>0</td>\n",
       "      <td>0</td>\n",
       "      <td>0</td>\n",
       "      <td>0</td>\n",
       "      <td>...</td>\n",
       "      <td>0</td>\n",
       "      <td>0</td>\n",
       "      <td>0</td>\n",
       "      <td>0</td>\n",
       "      <td>0</td>\n",
       "      <td>0</td>\n",
       "      <td>0</td>\n",
       "      <td>0</td>\n",
       "      <td>0</td>\n",
       "      <td>0</td>\n",
       "    </tr>\n",
       "    <tr>\n",
       "      <th>6484</th>\n",
       "      <td>6484</td>\n",
       "      <td>3.94</td>\n",
       "      <td>6485</td>\n",
       "      <td>0</td>\n",
       "      <td>0</td>\n",
       "      <td>0</td>\n",
       "      <td>0</td>\n",
       "      <td>0</td>\n",
       "      <td>0</td>\n",
       "      <td>0</td>\n",
       "      <td>...</td>\n",
       "      <td>0</td>\n",
       "      <td>0</td>\n",
       "      <td>0</td>\n",
       "      <td>0</td>\n",
       "      <td>0</td>\n",
       "      <td>0</td>\n",
       "      <td>0</td>\n",
       "      <td>0</td>\n",
       "      <td>0</td>\n",
       "      <td>0</td>\n",
       "    </tr>\n",
       "  </tbody>\n",
       "</table>\n",
       "<p>5 rows × 725 columns</p>\n",
       "</div>"
      ],
      "text/plain": [
       "       index  book_rating     ID  book_title_0  book_title_1  book_title_2  \\\n",
       "20663  20663         4.06  20664             0             0             0   \n",
       "14559  14559         4.10  14560             0             0             0   \n",
       "548      548         3.76    549             0             0             0   \n",
       "9569    9569         4.02   9570             0             0             0   \n",
       "6484    6484         3.94   6485             0             0             0   \n",
       "\n",
       "       book_title_3  book_title_4  book_title_5  book_title_6  ...  \\\n",
       "20663             0             0             0             0  ...   \n",
       "14559             0             0             0             0  ...   \n",
       "548               0             0             0             0  ...   \n",
       "9569              0             0             0             0  ...   \n",
       "6484              0             0             0             0  ...   \n",
       "\n",
       "       book_title_712  book_title_713  book_title_714  book_title_715  \\\n",
       "20663               0               1               0               0   \n",
       "14559               0               0               0               0   \n",
       "548                 0               0               0               0   \n",
       "9569                0               0               0               0   \n",
       "6484                0               0               0               0   \n",
       "\n",
       "       book_title_716  book_title_717  book_title_718  book_title_719  \\\n",
       "20663               0               0               0               0   \n",
       "14559               0               0               0               0   \n",
       "548                 0               0               0               0   \n",
       "9569                0               0               0               0   \n",
       "6484                0               0               0               0   \n",
       "\n",
       "       book_title_720  book_title_721  \n",
       "20663               0               0  \n",
       "14559               0               0  \n",
       "548                 0               0  \n",
       "9569                0               0  \n",
       "6484                0               0  \n",
       "\n",
       "[5 rows x 725 columns]"
      ]
     },
     "execution_count": 159,
     "metadata": {},
     "output_type": "execute_result"
    }
   ],
   "source": [
    "# mengubah atribut categorical menjadi binary untuk melihat klasifikasi\n",
    "geez = []\n",
    "for col in categorical_features:\n",
    "    dummies = pd.get_dummies(train[col], prefix=col)\n",
    "    geez = pd.concat([train, dummies], axis=1)\n",
    "    geez.drop(col, axis=1, inplace=True)\n",
    "geez.head()"
   ]
  },
  {
   "cell_type": "code",
   "execution_count": 160,
   "metadata": {},
   "outputs": [],
   "source": [
    "mms = MinMaxScaler()\n",
    "mms.fit(geez)\n",
    "data_transformed = mms.transform(geez)"
   ]
  },
  {
   "cell_type": "code",
   "execution_count": 165,
   "metadata": {},
   "outputs": [],
   "source": [
    "# mencari byknya jarak cluster terdekat dari 1-50 cluster\n",
    "Sum_of_squared_distances = []\n",
    "K = range(1,50)\n",
    "for k in K:\n",
    "    km = KMeans(n_clusters=k)\n",
    "    km = km.fit(data_transformed)\n",
    "    Sum_of_squared_distances.append(km.inertia_)"
   ]
  },
  {
   "cell_type": "code",
   "execution_count": 167,
   "metadata": {},
   "outputs": [
    {
     "data": {
      "image/png": "[encoded data removed]",
      "text/plain": [
       "<Figure size 864x864 with 1 Axes>"
      ]
     },
     "metadata": {
      "needs_background": "light"
     },
     "output_type": "display_data"
    }
   ],
   "source": [
    "plt.figure(figsize=(12,12))\n",
    "plt.plot(K, Sum_of_squared_distances, 'bx-')\n",
    "plt.xlabel('k')\n",
    "plt.ylabel('Sum_of_squared_distances')\n",
    "plt.title('Elbow Method For Optimal k')\n",
    "plt.show()"
   ]
  },
  {
   "cell_type": "code",
   "execution_count": 156,
   "metadata": {
    "scrolled": true
   },
   "outputs": [
    {
     "name": "stdout",
     "output_type": "stream",
     "text": [
      "<class 'pandas.core.frame.DataFrame'>\n",
      "Int64Index: 21559 entries, 0 to 21558\n",
      "Columns: 726 entries, index to book_title_721\n",
      "dtypes: float64(723), int64(2), object(1)\n",
      "memory usage: 119.6+ MB\n"
     ]
    }
   ],
   "source": [
    "geez.info()"
   ]
  },
  {
   "cell_type": "code",
   "execution_count": 65,
   "metadata": {},
   "outputs": [
    {
     "name": "stdout",
     "output_type": "stream",
     "text": [
      "<class 'pandas.core.frame.DataFrame'>\n",
      "Int64Index: 4312 entries, 1985 to 13582\n",
      "Data columns (total 4 columns):\n",
      " #   Column       Non-Null Count  Dtype  \n",
      "---  ------       --------------  -----  \n",
      " 0   index        4312 non-null   int64  \n",
      " 1   book_title   4312 non-null   int32  \n",
      " 2   book_rating  4312 non-null   float64\n",
      " 3   ID           4312 non-null   int64  \n",
      "dtypes: float64(1), int32(1), int64(2)\n",
      "memory usage: 151.6 KB\n"
     ]
    }
   ],
   "source": [
    "test.info()"
   ]
  },
  {
   "cell_type": "code",
   "execution_count": 66,
   "metadata": {},
   "outputs": [],
   "source": [
    "X = np.array(train.drop(['book_rating'], 1).astype(float))"
   ]
  },
  {
   "cell_type": "code",
   "execution_count": 67,
   "metadata": {},
   "outputs": [],
   "source": [
    "y = np.array(train['book_rating'])"
   ]
  },
  {
   "cell_type": "code",
   "execution_count": 73,
   "metadata": {
    "scrolled": true
   },
   "outputs": [
    {
     "data": {
      "text/html": [
       "<div>\n",
       "<style scoped>\n",
       "    .dataframe tbody tr th:only-of-type {\n",
       "        vertical-align: middle;\n",
       "    }\n",
       "\n",
       "    .dataframe tbody tr th {\n",
       "        vertical-align: top;\n",
       "    }\n",
       "\n",
       "    .dataframe thead th {\n",
       "        text-align: right;\n",
       "    }\n",
       "</style>\n",
       "<table border=\"1\" class=\"dataframe\">\n",
       "  <thead>\n",
       "    <tr style=\"text-align: right;\">\n",
       "      <th></th>\n",
       "      <th>book_title</th>\n",
       "      <th>book_rating</th>\n",
       "    </tr>\n",
       "  </thead>\n",
       "  <tbody>\n",
       "    <tr>\n",
       "      <th>717</th>\n",
       "      <td>717</td>\n",
       "      <td>4.15</td>\n",
       "    </tr>\n",
       "    <tr>\n",
       "      <th>718</th>\n",
       "      <td>718</td>\n",
       "      <td>3.64</td>\n",
       "    </tr>\n",
       "    <tr>\n",
       "      <th>719</th>\n",
       "      <td>719</td>\n",
       "      <td>4.22</td>\n",
       "    </tr>\n",
       "    <tr>\n",
       "      <th>720</th>\n",
       "      <td>720</td>\n",
       "      <td>3.79</td>\n",
       "    </tr>\n",
       "    <tr>\n",
       "      <th>721</th>\n",
       "      <td>721</td>\n",
       "      <td>4.08</td>\n",
       "    </tr>\n",
       "  </tbody>\n",
       "</table>\n",
       "</div>"
      ],
      "text/plain": [
       "     book_title  book_rating\n",
       "717         717         4.15\n",
       "718         718         3.64\n",
       "719         719         4.22\n",
       "720         720         3.79\n",
       "721         721         4.08"
      ]
     },
     "execution_count": 73,
     "metadata": {},
     "output_type": "execute_result"
    }
   ],
   "source": [
    "train[[\"book_title\", \"book_rating\"]].groupby(['book_title'], as_index=False).mean().sort_values(by='book_title', ascending=True).tail()"
   ]
  },
  {
   "cell_type": "markdown",
   "metadata": {},
   "source": [
    "# Mencoba Clustering k=5 dan max iterasi=300"
   ]
  },
  {
   "cell_type": "code",
   "execution_count": 98,
   "metadata": {},
   "outputs": [
    {
     "data": {
      "text/plain": [
       "KMeans(n_clusters=5)"
      ]
     },
     "execution_count": 98,
     "metadata": {},
     "output_type": "execute_result"
    }
   ],
   "source": [
    "kmeans = KMeans(n_clusters=5) # You want cluster the passenger records into 2: Survived or Not survived\n",
    "kmeans.fit(X)"
   ]
  },
  {
   "cell_type": "code",
   "execution_count": 99,
   "metadata": {},
   "outputs": [
    {
     "data": {
      "text/plain": [
       "KMeans(n_clusters=5, n_jobs=1, precompute_distances='auto')"
      ]
     },
     "execution_count": 99,
     "metadata": {},
     "output_type": "execute_result"
    }
   ],
   "source": [
    "KMeans(algorithm='auto',copy_x=True,\n",
    "       init='k-means++', max_iter=300,\n",
    "       n_clusters=5, n_init=10,\n",
    "       n_jobs=1, precompute_distances='auto',\n",
    "       random_state=None, tol=0.0001, verbose=0)"
   ]
  },
  {
   "cell_type": "code",
   "execution_count": 100,
   "metadata": {},
   "outputs": [
    {
     "name": "stdout",
     "output_type": "stream",
     "text": [
      "0.005682147619875921\n"
     ]
    }
   ],
   "source": [
    "# model melakukan clustering secara tepat dengan akurasi 0.0056\n",
    "correct = 0\n",
    "for i in range(len(X)):\n",
    "    predict_me = np.array(X[i].astype(float))\n",
    "    predict_me = predict_me.reshape(-1, len(predict_me))\n",
    "    prediction = kmeans.predict(predict_me)\n",
    "    if prediction[0] == y[i]:\n",
    "        correct += 1\n",
    "\n",
    "print(correct/len(X))"
   ]
  },
  {
   "cell_type": "markdown",
   "metadata": {},
   "source": [
    "# Mencoba dengan k=5 dan max iterasi=600"
   ]
  },
  {
   "cell_type": "code",
   "execution_count": 101,
   "metadata": {},
   "outputs": [
    {
     "data": {
      "text/plain": [
       "KMeans(max_iter=600, n_clusters=5)"
      ]
     },
     "execution_count": 101,
     "metadata": {},
     "output_type": "execute_result"
    }
   ],
   "source": [
    "kmeans = kmeans = KMeans(n_clusters=5, max_iter=600, algorithm = 'auto')\n",
    "kmeans.fit(X)"
   ]
  },
  {
   "cell_type": "code",
   "execution_count": 102,
   "metadata": {},
   "outputs": [
    {
     "data": {
      "text/plain": [
       "KMeans(max_iter=600, n_clusters=5, n_jobs=1, precompute_distances='auto')"
      ]
     },
     "execution_count": 102,
     "metadata": {},
     "output_type": "execute_result"
    }
   ],
   "source": [
    "KMeans(algorithm='auto', copy_x=True,\n",
    "       init='k-means++', max_iter=600,\n",
    "       n_clusters=5, n_init=10,\n",
    "       n_jobs=1, precompute_distances='auto',\n",
    "       random_state=None, tol=0.0001, verbose=0)"
   ]
  },
  {
   "cell_type": "code",
   "execution_count": 103,
   "metadata": {},
   "outputs": [
    {
     "name": "stdout",
     "output_type": "stream",
     "text": [
      "0.0028990549080999592\n"
     ]
    }
   ],
   "source": [
    "# akurasi semakin rendah karena range di value tidak di perhitungkan\n",
    "correct = 0\n",
    "for i in range(len(X)):\n",
    "    predict_me = np.array(X[i].astype(float))\n",
    "    predict_me = predict_me.reshape(-1, len(predict_me))\n",
    "    prediction = kmeans.predict(predict_me)\n",
    "    if prediction[0] == y[i]:\n",
    "        correct += 1\n",
    "\n",
    "print(correct/len(X))"
   ]
  },
  {
   "cell_type": "markdown",
   "metadata": {},
   "source": [
    "# Mencoba dengan k=5, max iterasi=600 namun range data sudah di scale"
   ]
  },
  {
   "cell_type": "code",
   "execution_count": 104,
   "metadata": {},
   "outputs": [],
   "source": [
    "scaler = MinMaxScaler()\n",
    "X_scaled = scaler.fit_transform(X)"
   ]
  },
  {
   "cell_type": "code",
   "execution_count": 105,
   "metadata": {},
   "outputs": [
    {
     "data": {
      "text/plain": [
       "KMeans(max_iter=600, n_clusters=5)"
      ]
     },
     "execution_count": 105,
     "metadata": {},
     "output_type": "execute_result"
    }
   ],
   "source": [
    "kmeans.fit(X_scaled)"
   ]
  },
  {
   "cell_type": "code",
   "execution_count": 106,
   "metadata": {},
   "outputs": [
    {
     "data": {
      "text/plain": [
       "KMeans(max_iter=600, n_clusters=5, n_jobs=1, precompute_distances='auto')"
      ]
     },
     "execution_count": 106,
     "metadata": {},
     "output_type": "execute_result"
    }
   ],
   "source": [
    "KMeans(algorithm='auto', copy_x=True,\n",
    "       init='k-means++', max_iter=600,\n",
    "       n_clusters=5, n_init=10,\n",
    "       n_jobs=1, precompute_distances='auto',\n",
    "       random_state=None, tol=0.0001, verbose=0)"
   ]
  },
  {
   "cell_type": "code",
   "execution_count": 107,
   "metadata": {},
   "outputs": [
    {
     "name": "stdout",
     "output_type": "stream",
     "text": [
      "0.00011596219632399837\n"
     ]
    }
   ],
   "source": [
    "# akurasi semakin mengecil karena index yg digunakan sangat beragam\n",
    "# menyebabkan jumlah clustering harus semakin byk\n",
    "# namun kita hanya membatasi sebanyak k=5 yg mengakibatkan akurasi rendah\n",
    "correct = 0\n",
    "for i in range(len(X)):\n",
    "    predict_me = np.array(X[i].astype(float))\n",
    "    predict_me = predict_me.reshape(-1, len(predict_me))\n",
    "    prediction = kmeans.predict(predict_me)\n",
    "    if prediction[0] == y[i]:\n",
    "        correct += 1\n",
    "\n",
    "print(correct/len(X))"
   ]
  },
  {
   "cell_type": "code",
   "execution_count": null,
   "metadata": {},
   "outputs": [],
   "source": []
  }
 ],
 "metadata": {
  "kernelspec": {
   "display_name": "Python 3",
   "language": "python",
   "name": "python3"
  },
  "language_info": {
   "codemirror_mode": {
    "name": "ipython",
    "version": 3
   },
   "file_extension": ".py",
   "mimetype": "text/x-python",
   "name": "python",
   "nbconvert_exporter": "python",
   "pygments_lexer": "ipython3",
   "version": "3.6.5"
  }
 },
 "nbformat": 4,
 "nbformat_minor": 4
}
