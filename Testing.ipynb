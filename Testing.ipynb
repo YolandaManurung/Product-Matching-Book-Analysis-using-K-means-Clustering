{
 "cells": [
  {
   "cell_type": "markdown",
   "metadata": {},
   "source": [
    "# Product Matching Book Analysis Using K-means\n",
    "### Kelompok 13\n",
    "1. Yolanda R.M Manurung (12S17017)\n",
    "2. Stella Sitinjak      (12S17027)\n",
    "3. Ekis Naomi Lasma     (12S17059)\n",
    "\n",
    "\n",
    "### Dataset\n",
    "Data yang digunakan pada proyek ini berasal dari kaggle (https://www.kaggle.com/gapple/goodreads-book-reviews-20k)"
   ]
  },
  {
   "cell_type": "code",
   "execution_count": 1,
   "metadata": {},
   "outputs": [],
   "source": [
    "import warnings\n",
    "warnings.filterwarnings(\"ignore\")"
   ]
  },
  {
   "cell_type": "code",
   "execution_count": 2,
   "metadata": {},
   "outputs": [],
   "source": [
    "%matplotlib inline\n",
    "# import sys\n",
    "# reload(sys)\n",
    "# sys.setdefaultencoding('utf-8')\n",
    "import re\n",
    "import csv\n",
    "import ast\n",
    "import operator\n",
    "import pandas as pd\n",
    "import seaborn as sns\n",
    "import string\n",
    "from string import digits\n",
    "import nltk\n",
    "from nltk.corpus import stopwords\n",
    "from nltk.tokenize import word_tokenize\n",
    "from nltk.stem.porter import PorterStemmer\n",
    "from nltk.tokenize import sent_tokenize, LineTokenizer, RegexpTokenizer\n",
    "\n",
    "from collections import Counter\n",
    "from matplotlib import cm\n",
    "from itertools import cycle, islice\n",
    "import matplotlib as mpl\n",
    "import matplotlib.pyplot as plt\n",
    "from subprocess import check_output\n",
    "from wordcloud import WordCloud\n",
    "\n",
    "\n",
    "from sklearn.model_selection import train_test_split\n",
    "from sklearn.neighbors import NearestNeighbors\n",
    "from sklearn.feature_extraction.text import CountVectorizer\n",
    "from sklearn.feature_extraction.text import TfidfTransformer\n",
    "from sklearn.feature_extraction.text import TfidfVectorizer\n",
    "from sklearn.cluster import KMeans\n",
    "\n",
    "from pandas import *\n",
    "from sklearn.metrics import accuracy_score, precision_score, recall_score, f1_score\n",
    "from sklearn import metrics\n",
    "from sklearn.svm import SVC\n",
    "from sklearn.naive_bayes import MultinomialNB\n",
    "from sklearn import linear_model\n",
    "import numpy as np"
   ]
  },
  {
   "cell_type": "markdown",
   "metadata": {},
   "source": [
    "### Cross-Industry Standard Process for Data Mining (CRISP-DM)"
   ]
  },
  {
   "cell_type": "markdown",
   "metadata": {},
   "source": [
    "### 1. Data understanding"
   ]
  },
  {
   "cell_type": "code",
   "execution_count": 3,
   "metadata": {},
   "outputs": [
    {
     "name": "stdout",
     "output_type": "stream",
     "text": [
      "Jumlah data = 21559\n"
     ]
    },
    {
     "data": {
      "text/html": [
       "<div>\n",
       "<style scoped>\n",
       "    .dataframe tbody tr th:only-of-type {\n",
       "        vertical-align: middle;\n",
       "    }\n",
       "\n",
       "    .dataframe tbody tr th {\n",
       "        vertical-align: top;\n",
       "    }\n",
       "\n",
       "    .dataframe thead th {\n",
       "        text-align: right;\n",
       "    }\n",
       "</style>\n",
       "<table border=\"1\" class=\"dataframe\">\n",
       "  <thead>\n",
       "    <tr style=\"text-align: right;\">\n",
       "      <th></th>\n",
       "      <th>book_title</th>\n",
       "      <th>Book_series</th>\n",
       "      <th>book_series_url</th>\n",
       "      <th>book_image</th>\n",
       "      <th>book_image_url</th>\n",
       "      <th>book_rating</th>\n",
       "      <th>book_author</th>\n",
       "      <th>author_url</th>\n",
       "      <th>genre</th>\n",
       "      <th>reviewer_name</th>\n",
       "      <th>reviewer_url</th>\n",
       "      <th>reviewer_image</th>\n",
       "      <th>reviewer_image_url</th>\n",
       "      <th>review</th>\n",
       "      <th>ID</th>\n",
       "    </tr>\n",
       "  </thead>\n",
       "  <tbody>\n",
       "    <tr>\n",
       "      <th>0</th>\n",
       "      <td>A Court of Wings and Ruin</td>\n",
       "      <td>(A Court of Thorns and Roses #3)</td>\n",
       "      <td>https://www.goodreads.com/series/104014-a-cour...</td>\n",
       "      <td>https://images.gr-assets.com/books/1485528243l...</td>\n",
       "      <td>https://www.goodreads.com/book/photo/23766634-...</td>\n",
       "      <td>4.51</td>\n",
       "      <td>Sarah J. Maas</td>\n",
       "      <td>https://www.goodreads.com/author/show/3433047....</td>\n",
       "      <td>Fantasy, Romance, Young Adult, New Adult</td>\n",
       "      <td>emma</td>\n",
       "      <td>https://www.goodreads.com/user/show/32879029-emma</td>\n",
       "      <td>https://images.gr-assets.com/users/1520568130p...</td>\n",
       "      <td>https://www.goodreads.com/user/show/32879029-emma</td>\n",
       "      <td>202.\\r\\nThat’s the number of times that the wo...</td>\n",
       "      <td>1</td>\n",
       "    </tr>\n",
       "    <tr>\n",
       "      <th>1</th>\n",
       "      <td>A Court of Wings and Ruin</td>\n",
       "      <td>(A Court of Thorns and Roses #3)</td>\n",
       "      <td>https://www.goodreads.com/series/104014-a-cour...</td>\n",
       "      <td>https://images.gr-assets.com/books/1485528243l...</td>\n",
       "      <td>https://www.goodreads.com/book/photo/23766634-...</td>\n",
       "      <td>4.51</td>\n",
       "      <td>Sarah J. Maas</td>\n",
       "      <td>https://www.goodreads.com/author/show/3433047....</td>\n",
       "      <td>Fantasy, Romance, Young Adult, New Adult</td>\n",
       "      <td>Em (RunawayWithDreamthieves)</td>\n",
       "      <td>https://www.goodreads.com/user/show/42130592-e...</td>\n",
       "      <td>https://images.gr-assets.com/users/1538507799p...</td>\n",
       "      <td>https://www.goodreads.com/user/show/42130592-e...</td>\n",
       "      <td>I need a black silk robe and a balcony to wear...</td>\n",
       "      <td>2</td>\n",
       "    </tr>\n",
       "    <tr>\n",
       "      <th>2</th>\n",
       "      <td>A Court of Wings and Ruin</td>\n",
       "      <td>(A Court of Thorns and Roses #3)</td>\n",
       "      <td>https://www.goodreads.com/series/104014-a-cour...</td>\n",
       "      <td>https://images.gr-assets.com/books/1485528243l...</td>\n",
       "      <td>https://www.goodreads.com/book/photo/23766634-...</td>\n",
       "      <td>4.51</td>\n",
       "      <td>Sarah J. Maas</td>\n",
       "      <td>https://www.goodreads.com/author/show/3433047....</td>\n",
       "      <td>Fantasy, Romance, Young Adult, New Adult</td>\n",
       "      <td>Cait • A Page with a View</td>\n",
       "      <td>https://www.goodreads.com/user/show/47412532-c...</td>\n",
       "      <td>https://images.gr-assets.com/users/1523134490p...</td>\n",
       "      <td>https://www.goodreads.com/user/show/47412532-c...</td>\n",
       "      <td>THIS BOOK TOTALLY WRECKED ME. In the best poss...</td>\n",
       "      <td>3</td>\n",
       "    </tr>\n",
       "    <tr>\n",
       "      <th>3</th>\n",
       "      <td>A Court of Wings and Ruin</td>\n",
       "      <td>(A Court of Thorns and Roses #3)</td>\n",
       "      <td>https://www.goodreads.com/series/104014-a-cour...</td>\n",
       "      <td>https://images.gr-assets.com/books/1485528243l...</td>\n",
       "      <td>https://www.goodreads.com/book/photo/23766634-...</td>\n",
       "      <td>4.51</td>\n",
       "      <td>Sarah J. Maas</td>\n",
       "      <td>https://www.goodreads.com/author/show/3433047....</td>\n",
       "      <td>Fantasy, Romance, Young Adult, New Adult</td>\n",
       "      <td>Natalie Monroe</td>\n",
       "      <td>https://www.goodreads.com/user/show/6688207-na...</td>\n",
       "      <td>https://images.gr-assets.com/users/1339730817p...</td>\n",
       "      <td>https://www.goodreads.com/user/show/6688207-na...</td>\n",
       "      <td>3.75 stars\\r\\n\"Rhys stepped off the stairs and...</td>\n",
       "      <td>4</td>\n",
       "    </tr>\n",
       "    <tr>\n",
       "      <th>4</th>\n",
       "      <td>A Court of Wings and Ruin</td>\n",
       "      <td>(A Court of Thorns and Roses #3)</td>\n",
       "      <td>https://www.goodreads.com/series/104014-a-cour...</td>\n",
       "      <td>https://images.gr-assets.com/books/1485528243l...</td>\n",
       "      <td>https://www.goodreads.com/book/photo/23766634-...</td>\n",
       "      <td>4.51</td>\n",
       "      <td>Sarah J. Maas</td>\n",
       "      <td>https://www.goodreads.com/author/show/3433047....</td>\n",
       "      <td>Fantasy, Romance, Young Adult, New Adult</td>\n",
       "      <td>Emily May</td>\n",
       "      <td>https://www.goodreads.com/user/show/4622890-em...</td>\n",
       "      <td>https://images.gr-assets.com/users/1528390751p...</td>\n",
       "      <td>https://www.goodreads.com/user/show/4622890-em...</td>\n",
       "      <td>I wish so much that I could tell you I loved t...</td>\n",
       "      <td>5</td>\n",
       "    </tr>\n",
       "  </tbody>\n",
       "</table>\n",
       "</div>"
      ],
      "text/plain": [
       "                  book_title                       Book_series  \\\n",
       "0  A Court of Wings and Ruin  (A Court of Thorns and Roses #3)   \n",
       "1  A Court of Wings and Ruin  (A Court of Thorns and Roses #3)   \n",
       "2  A Court of Wings and Ruin  (A Court of Thorns and Roses #3)   \n",
       "3  A Court of Wings and Ruin  (A Court of Thorns and Roses #3)   \n",
       "4  A Court of Wings and Ruin  (A Court of Thorns and Roses #3)   \n",
       "\n",
       "                                     book_series_url  \\\n",
       "0  https://www.goodreads.com/series/104014-a-cour...   \n",
       "1  https://www.goodreads.com/series/104014-a-cour...   \n",
       "2  https://www.goodreads.com/series/104014-a-cour...   \n",
       "3  https://www.goodreads.com/series/104014-a-cour...   \n",
       "4  https://www.goodreads.com/series/104014-a-cour...   \n",
       "\n",
       "                                          book_image  \\\n",
       "0  https://images.gr-assets.com/books/1485528243l...   \n",
       "1  https://images.gr-assets.com/books/1485528243l...   \n",
       "2  https://images.gr-assets.com/books/1485528243l...   \n",
       "3  https://images.gr-assets.com/books/1485528243l...   \n",
       "4  https://images.gr-assets.com/books/1485528243l...   \n",
       "\n",
       "                                      book_image_url  book_rating  \\\n",
       "0  https://www.goodreads.com/book/photo/23766634-...         4.51   \n",
       "1  https://www.goodreads.com/book/photo/23766634-...         4.51   \n",
       "2  https://www.goodreads.com/book/photo/23766634-...         4.51   \n",
       "3  https://www.goodreads.com/book/photo/23766634-...         4.51   \n",
       "4  https://www.goodreads.com/book/photo/23766634-...         4.51   \n",
       "\n",
       "     book_author                                         author_url  \\\n",
       "0  Sarah J. Maas  https://www.goodreads.com/author/show/3433047....   \n",
       "1  Sarah J. Maas  https://www.goodreads.com/author/show/3433047....   \n",
       "2  Sarah J. Maas  https://www.goodreads.com/author/show/3433047....   \n",
       "3  Sarah J. Maas  https://www.goodreads.com/author/show/3433047....   \n",
       "4  Sarah J. Maas  https://www.goodreads.com/author/show/3433047....   \n",
       "\n",
       "                                      genre                 reviewer_name  \\\n",
       "0  Fantasy, Romance, Young Adult, New Adult                          emma   \n",
       "1  Fantasy, Romance, Young Adult, New Adult  Em (RunawayWithDreamthieves)   \n",
       "2  Fantasy, Romance, Young Adult, New Adult     Cait • A Page with a View   \n",
       "3  Fantasy, Romance, Young Adult, New Adult                Natalie Monroe   \n",
       "4  Fantasy, Romance, Young Adult, New Adult                     Emily May   \n",
       "\n",
       "                                        reviewer_url  \\\n",
       "0  https://www.goodreads.com/user/show/32879029-emma   \n",
       "1  https://www.goodreads.com/user/show/42130592-e...   \n",
       "2  https://www.goodreads.com/user/show/47412532-c...   \n",
       "3  https://www.goodreads.com/user/show/6688207-na...   \n",
       "4  https://www.goodreads.com/user/show/4622890-em...   \n",
       "\n",
       "                                      reviewer_image  \\\n",
       "0  https://images.gr-assets.com/users/1520568130p...   \n",
       "1  https://images.gr-assets.com/users/1538507799p...   \n",
       "2  https://images.gr-assets.com/users/1523134490p...   \n",
       "3  https://images.gr-assets.com/users/1339730817p...   \n",
       "4  https://images.gr-assets.com/users/1528390751p...   \n",
       "\n",
       "                                  reviewer_image_url  \\\n",
       "0  https://www.goodreads.com/user/show/32879029-emma   \n",
       "1  https://www.goodreads.com/user/show/42130592-e...   \n",
       "2  https://www.goodreads.com/user/show/47412532-c...   \n",
       "3  https://www.goodreads.com/user/show/6688207-na...   \n",
       "4  https://www.goodreads.com/user/show/4622890-em...   \n",
       "\n",
       "                                              review  ID  \n",
       "0  202.\\r\\nThat’s the number of times that the wo...   1  \n",
       "1  I need a black silk robe and a balcony to wear...   2  \n",
       "2  THIS BOOK TOTALLY WRECKED ME. In the best poss...   3  \n",
       "3  3.75 stars\\r\\n\"Rhys stepped off the stairs and...   4  \n",
       "4  I wish so much that I could tell you I loved t...   5  "
      ]
     },
     "execution_count": 3,
     "metadata": {},
     "output_type": "execute_result"
    }
   ],
   "source": [
    "review = pd.read_csv('all_data.csv')\n",
    "print ('Jumlah data =', len(review))\n",
    "review.head()"
   ]
  },
  {
   "cell_type": "code",
   "execution_count": 4,
   "metadata": {},
   "outputs": [
    {
     "name": "stdout",
     "output_type": "stream",
     "text": [
      "<class 'pandas.core.frame.DataFrame'>\n",
      "RangeIndex: 21559 entries, 0 to 21558\n",
      "Data columns (total 15 columns):\n",
      " #   Column              Non-Null Count  Dtype  \n",
      "---  ------              --------------  -----  \n",
      " 0   book_title          21559 non-null  object \n",
      " 1   Book_series         8780 non-null   object \n",
      " 2   book_series_url     8780 non-null   object \n",
      " 3   book_image          21557 non-null  object \n",
      " 4   book_image_url      21557 non-null  object \n",
      " 5   book_rating         21559 non-null  float64\n",
      " 6   book_author         21559 non-null  object \n",
      " 7   author_url          21559 non-null  object \n",
      " 8   genre               21438 non-null  object \n",
      " 9   reviewer_name       21534 non-null  object \n",
      " 10  reviewer_url        21534 non-null  object \n",
      " 11  reviewer_image      21534 non-null  object \n",
      " 12  reviewer_image_url  21534 non-null  object \n",
      " 13  review              20817 non-null  object \n",
      " 14  ID                  21559 non-null  int64  \n",
      "dtypes: float64(1), int64(1), object(13)\n",
      "memory usage: 2.5+ MB\n"
     ]
    }
   ],
   "source": [
    "review.info()"
   ]
  },
  {
   "cell_type": "code",
   "execution_count": 5,
   "metadata": {},
   "outputs": [
    {
     "data": {
      "text/plain": [
       "Index(['book_title', 'Book_series', 'book_series_url', 'book_image',\n",
       "       'book_image_url', 'book_rating', 'book_author', 'author_url', 'genre',\n",
       "       'reviewer_name', 'reviewer_url', 'reviewer_image', 'reviewer_image_url',\n",
       "       'review', 'ID'],\n",
       "      dtype='object')"
      ]
     },
     "execution_count": 5,
     "metadata": {},
     "output_type": "execute_result"
    }
   ],
   "source": [
    "review.columns"
   ]
  },
  {
   "cell_type": "code",
   "execution_count": 6,
   "metadata": {},
   "outputs": [
    {
     "data": {
      "text/plain": [
       "book_title                0\n",
       "Book_series           12779\n",
       "book_series_url       12779\n",
       "book_image                2\n",
       "book_image_url            2\n",
       "book_rating               0\n",
       "book_author               0\n",
       "author_url                0\n",
       "genre                   121\n",
       "reviewer_name            25\n",
       "reviewer_url             25\n",
       "reviewer_image           25\n",
       "reviewer_image_url       25\n",
       "review                  742\n",
       "ID                        0\n",
       "dtype: int64"
      ]
     },
     "execution_count": 6,
     "metadata": {},
     "output_type": "execute_result"
    }
   ],
   "source": [
    "review.isna().sum()"
   ]
  },
  {
   "cell_type": "markdown",
   "metadata": {},
   "source": [
    "### 2. Business understanding"
   ]
  },
  {
   "cell_type": "markdown",
   "metadata": {},
   "source": [
    "### 3. Data Cleaning and Preperation"
   ]
  },
  {
   "cell_type": "code",
   "execution_count": 7,
   "metadata": {},
   "outputs": [
    {
     "data": {
      "text/plain": [
       "(21559, 15)"
      ]
     },
     "execution_count": 7,
     "metadata": {},
     "output_type": "execute_result"
    }
   ],
   "source": [
    "review.shape"
   ]
  },
  {
   "cell_type": "markdown",
   "metadata": {},
   "source": [
    "Drop Null Value"
   ]
  },
  {
   "cell_type": "code",
   "execution_count": 17,
   "metadata": {},
   "outputs": [],
   "source": [
    "review = review.dropna()"
   ]
  },
  {
   "cell_type": "code",
   "execution_count": 18,
   "metadata": {},
   "outputs": [
    {
     "data": {
      "text/plain": [
       "(8600, 15)"
      ]
     },
     "execution_count": 18,
     "metadata": {},
     "output_type": "execute_result"
    }
   ],
   "source": [
    "review.shape"
   ]
  },
  {
   "cell_type": "code",
   "execution_count": 19,
   "metadata": {},
   "outputs": [
    {
     "name": "stdout",
     "output_type": "stream",
     "text": [
      "6880 items in training data, 1720 in test data\n"
     ]
    }
   ],
   "source": [
    "data_train, data_test = train_test_split(review, test_size=0.2)\n",
    "data_train_copy = data_train\n",
    "print(\"%d items in training data, %d in test data\" % (len(data_train), len(data_test)))"
   ]
  },
  {
   "cell_type": "code",
   "execution_count": 20,
   "metadata": {},
   "outputs": [],
   "source": [
    "df  = pd.DataFrame(review[['book_title','book_rating','genre','review']])"
   ]
  },
  {
   "cell_type": "code",
   "execution_count": 21,
   "metadata": {},
   "outputs": [
    {
     "name": "stdout",
     "output_type": "stream",
     "text": [
      "<class 'pandas.core.frame.DataFrame'>\n",
      "Int64Index: 8600 entries, 0 to 21558\n",
      "Data columns (total 4 columns):\n",
      " #   Column       Non-Null Count  Dtype  \n",
      "---  ------       --------------  -----  \n",
      " 0   book_title   8600 non-null   object \n",
      " 1   book_rating  8600 non-null   float64\n",
      " 2   genre        8600 non-null   object \n",
      " 3   review       8600 non-null   object \n",
      "dtypes: float64(1), object(3)\n",
      "memory usage: 335.9+ KB\n"
     ]
    }
   ],
   "source": [
    "df.info()"
   ]
  },
  {
   "cell_type": "code",
   "execution_count": 22,
   "metadata": {},
   "outputs": [
    {
     "data": {
      "text/html": [
       "<div>\n",
       "<style scoped>\n",
       "    .dataframe tbody tr th:only-of-type {\n",
       "        vertical-align: middle;\n",
       "    }\n",
       "\n",
       "    .dataframe tbody tr th {\n",
       "        vertical-align: top;\n",
       "    }\n",
       "\n",
       "    .dataframe thead th {\n",
       "        text-align: right;\n",
       "    }\n",
       "</style>\n",
       "<table border=\"1\" class=\"dataframe\">\n",
       "  <thead>\n",
       "    <tr style=\"text-align: right;\">\n",
       "      <th></th>\n",
       "      <th>book_rating</th>\n",
       "    </tr>\n",
       "  </thead>\n",
       "  <tbody>\n",
       "    <tr>\n",
       "      <th>count</th>\n",
       "      <td>8600.000000</td>\n",
       "    </tr>\n",
       "    <tr>\n",
       "      <th>mean</th>\n",
       "      <td>4.141544</td>\n",
       "    </tr>\n",
       "    <tr>\n",
       "      <th>std</th>\n",
       "      <td>0.248665</td>\n",
       "    </tr>\n",
       "    <tr>\n",
       "      <th>min</th>\n",
       "      <td>3.360000</td>\n",
       "    </tr>\n",
       "    <tr>\n",
       "      <th>25%</th>\n",
       "      <td>3.980000</td>\n",
       "    </tr>\n",
       "    <tr>\n",
       "      <th>50%</th>\n",
       "      <td>4.150000</td>\n",
       "    </tr>\n",
       "    <tr>\n",
       "      <th>75%</th>\n",
       "      <td>4.310000</td>\n",
       "    </tr>\n",
       "    <tr>\n",
       "      <th>max</th>\n",
       "      <td>4.690000</td>\n",
       "    </tr>\n",
       "  </tbody>\n",
       "</table>\n",
       "</div>"
      ],
      "text/plain": [
       "       book_rating\n",
       "count  8600.000000\n",
       "mean      4.141544\n",
       "std       0.248665\n",
       "min       3.360000\n",
       "25%       3.980000\n",
       "50%       4.150000\n",
       "75%       4.310000\n",
       "max       4.690000"
      ]
     },
     "execution_count": 22,
     "metadata": {},
     "output_type": "execute_result"
    }
   ],
   "source": [
    "df.describe()"
   ]
  },
  {
   "cell_type": "code",
   "execution_count": 23,
   "metadata": {},
   "outputs": [
    {
     "data": {
      "text/plain": [
       "0     202.\\r\\nThat’s the number of times that the wo...\n",
       "1     I need a black silk robe and a balcony to wear...\n",
       "2     THIS BOOK TOTALLY WRECKED ME. In the best poss...\n",
       "3     3.75 stars\\r\\n\"Rhys stepped off the stairs and...\n",
       "4     I wish so much that I could tell you I loved t...\n",
       "5     I’m wrecked. Because a Court of Wings and Ruin...\n",
       "6     Yay! Another one of my books won 2017 GR award...\n",
       "7     Congratulations-winner of Best Young Adult Fan...\n",
       "8     In these early days after the release, I'll sa...\n",
       "9     Glorious, thrilling and completely enthralling...\n",
       "10    *Do I need to remind you to be civil? No, I do...\n",
       "11    \"And will you come with me? On this adventure ...\n",
       "12    When the book you're highly anticipating has n...\n",
       "13    BIBLIOBABBLE- https://youtu.be/y5UVdj8avvs (re...\n",
       "14    I. CAN'T. HANDLE. THIS. WHAT???\\r\\nRTC\\r\\n----...\n",
       "15    Reread x 2.\\r\\nMy heart is in pain and full of...\n",
       "16    You know you're a dedicated fan when you mark ...\n",
       "17    4.25/5 stars\\r\\n\"Remember that you are a wolf....\n",
       "18    4 Stars\\r\\nBefore I say anything, I must say t...\n",
       "19    1.) A Court of Thorns and Roses ★★★★\\r\\n2.) A ...\n",
       "Name: review, dtype: object"
      ]
     },
     "execution_count": 23,
     "metadata": {},
     "output_type": "execute_result"
    }
   ],
   "source": [
    "df['review'].head(20)"
   ]
  },
  {
   "cell_type": "markdown",
   "metadata": {},
   "source": [
    "Remove Punctuation"
   ]
  },
  {
   "cell_type": "code",
   "execution_count": 24,
   "metadata": {},
   "outputs": [
    {
     "data": {
      "text/plain": [
       "'!\"#$%&\\'()*+,-./:;<=>?@[\\\\]^_`{|}~'"
      ]
     },
     "execution_count": 24,
     "metadata": {},
     "output_type": "execute_result"
    }
   ],
   "source": [
    "string.punctuation"
   ]
  },
  {
   "cell_type": "code",
   "execution_count": 25,
   "metadata": {},
   "outputs": [
    {
     "data": {
      "text/html": [
       "<div>\n",
       "<style scoped>\n",
       "    .dataframe tbody tr th:only-of-type {\n",
       "        vertical-align: middle;\n",
       "    }\n",
       "\n",
       "    .dataframe tbody tr th {\n",
       "        vertical-align: top;\n",
       "    }\n",
       "\n",
       "    .dataframe thead th {\n",
       "        text-align: right;\n",
       "    }\n",
       "</style>\n",
       "<table border=\"1\" class=\"dataframe\">\n",
       "  <thead>\n",
       "    <tr style=\"text-align: right;\">\n",
       "      <th></th>\n",
       "      <th>book_title</th>\n",
       "      <th>book_rating</th>\n",
       "      <th>genre</th>\n",
       "      <th>review</th>\n",
       "    </tr>\n",
       "  </thead>\n",
       "  <tbody>\n",
       "    <tr>\n",
       "      <th>0</th>\n",
       "      <td>A Court of Wings and Ruin</td>\n",
       "      <td>4.51</td>\n",
       "      <td>Fantasy, Romance, Young Adult, New Adult</td>\n",
       "      <td>\\r\\nThat’s the number of times that the word “...</td>\n",
       "    </tr>\n",
       "    <tr>\n",
       "      <th>1</th>\n",
       "      <td>A Court of Wings and Ruin</td>\n",
       "      <td>4.51</td>\n",
       "      <td>Fantasy, Romance, Young Adult, New Adult</td>\n",
       "      <td>I need a black silk robe and a balcony to wear...</td>\n",
       "    </tr>\n",
       "    <tr>\n",
       "      <th>2</th>\n",
       "      <td>A Court of Wings and Ruin</td>\n",
       "      <td>4.51</td>\n",
       "      <td>Fantasy, Romance, Young Adult, New Adult</td>\n",
       "      <td>THIS BOOK TOTALLY WRECKED ME In the best possi...</td>\n",
       "    </tr>\n",
       "    <tr>\n",
       "      <th>3</th>\n",
       "      <td>A Court of Wings and Ruin</td>\n",
       "      <td>4.51</td>\n",
       "      <td>Fantasy, Romance, Young Adult, New Adult</td>\n",
       "      <td>stars\\r\\nRhys stepped off the stairs and took...</td>\n",
       "    </tr>\n",
       "    <tr>\n",
       "      <th>4</th>\n",
       "      <td>A Court of Wings and Ruin</td>\n",
       "      <td>4.51</td>\n",
       "      <td>Fantasy, Romance, Young Adult, New Adult</td>\n",
       "      <td>I wish so much that I could tell you I loved t...</td>\n",
       "    </tr>\n",
       "    <tr>\n",
       "      <th>5</th>\n",
       "      <td>A Court of Wings and Ruin</td>\n",
       "      <td>4.51</td>\n",
       "      <td>Fantasy, Romance, Young Adult, New Adult</td>\n",
       "      <td>I’m wrecked Because a Court of Wings and Ruin ...</td>\n",
       "    </tr>\n",
       "    <tr>\n",
       "      <th>6</th>\n",
       "      <td>A Court of Wings and Ruin</td>\n",
       "      <td>4.51</td>\n",
       "      <td>Fantasy, Romance, Young Adult, New Adult</td>\n",
       "      <td>Yay Another one of my books won  GR award ❤️\\r...</td>\n",
       "    </tr>\n",
       "    <tr>\n",
       "      <th>7</th>\n",
       "      <td>A Court of Wings and Ruin</td>\n",
       "      <td>4.51</td>\n",
       "      <td>Fantasy, Romance, Young Adult, New Adult</td>\n",
       "      <td>Congratulationswinner of Best Young Adult Fant...</td>\n",
       "    </tr>\n",
       "    <tr>\n",
       "      <th>8</th>\n",
       "      <td>A Court of Wings and Ruin</td>\n",
       "      <td>4.51</td>\n",
       "      <td>Fantasy, Romance, Young Adult, New Adult</td>\n",
       "      <td>In these early days after the release Ill say ...</td>\n",
       "    </tr>\n",
       "    <tr>\n",
       "      <th>9</th>\n",
       "      <td>A Court of Wings and Ruin</td>\n",
       "      <td>4.51</td>\n",
       "      <td>Fantasy, Romance, Young Adult, New Adult</td>\n",
       "      <td>Glorious thrilling and completely enthralling ...</td>\n",
       "    </tr>\n",
       "  </tbody>\n",
       "</table>\n",
       "</div>"
      ],
      "text/plain": [
       "                  book_title  book_rating  \\\n",
       "0  A Court of Wings and Ruin         4.51   \n",
       "1  A Court of Wings and Ruin         4.51   \n",
       "2  A Court of Wings and Ruin         4.51   \n",
       "3  A Court of Wings and Ruin         4.51   \n",
       "4  A Court of Wings and Ruin         4.51   \n",
       "5  A Court of Wings and Ruin         4.51   \n",
       "6  A Court of Wings and Ruin         4.51   \n",
       "7  A Court of Wings and Ruin         4.51   \n",
       "8  A Court of Wings and Ruin         4.51   \n",
       "9  A Court of Wings and Ruin         4.51   \n",
       "\n",
       "                                      genre  \\\n",
       "0  Fantasy, Romance, Young Adult, New Adult   \n",
       "1  Fantasy, Romance, Young Adult, New Adult   \n",
       "2  Fantasy, Romance, Young Adult, New Adult   \n",
       "3  Fantasy, Romance, Young Adult, New Adult   \n",
       "4  Fantasy, Romance, Young Adult, New Adult   \n",
       "5  Fantasy, Romance, Young Adult, New Adult   \n",
       "6  Fantasy, Romance, Young Adult, New Adult   \n",
       "7  Fantasy, Romance, Young Adult, New Adult   \n",
       "8  Fantasy, Romance, Young Adult, New Adult   \n",
       "9  Fantasy, Romance, Young Adult, New Adult   \n",
       "\n",
       "                                              review  \n",
       "0  \\r\\nThat’s the number of times that the word “...  \n",
       "1  I need a black silk robe and a balcony to wear...  \n",
       "2  THIS BOOK TOTALLY WRECKED ME In the best possi...  \n",
       "3   stars\\r\\nRhys stepped off the stairs and took...  \n",
       "4  I wish so much that I could tell you I loved t...  \n",
       "5  I’m wrecked Because a Court of Wings and Ruin ...  \n",
       "6  Yay Another one of my books won  GR award ❤️\\r...  \n",
       "7  Congratulationswinner of Best Young Adult Fant...  \n",
       "8  In these early days after the release Ill say ...  \n",
       "9  Glorious thrilling and completely enthralling ...  "
      ]
     },
     "execution_count": 25,
     "metadata": {},
     "output_type": "execute_result"
    }
   ],
   "source": [
    "def remove_punct(text):\n",
    "    text  = \"\".join([char for char in text if char not in string.punctuation])\n",
    "    text = re.sub('[0-9]+', '', text)\n",
    "    return text\n",
    "\n",
    "df['book_title'] = df['book_title'].apply(lambda x: remove_punct(x))\n",
    "df['review'] = df['review'].apply(lambda x: remove_punct(x))\n",
    "df.head(10)"
   ]
  },
  {
   "cell_type": "markdown",
   "metadata": {},
   "source": [
    "Case Folding"
   ]
  },
  {
   "cell_type": "code",
   "execution_count": 26,
   "metadata": {},
   "outputs": [
    {
     "data": {
      "text/html": [
       "<div>\n",
       "<style scoped>\n",
       "    .dataframe tbody tr th:only-of-type {\n",
       "        vertical-align: middle;\n",
       "    }\n",
       "\n",
       "    .dataframe tbody tr th {\n",
       "        vertical-align: top;\n",
       "    }\n",
       "\n",
       "    .dataframe thead th {\n",
       "        text-align: right;\n",
       "    }\n",
       "</style>\n",
       "<table border=\"1\" class=\"dataframe\">\n",
       "  <thead>\n",
       "    <tr style=\"text-align: right;\">\n",
       "      <th></th>\n",
       "      <th>book_title</th>\n",
       "      <th>book_rating</th>\n",
       "      <th>genre</th>\n",
       "      <th>review</th>\n",
       "    </tr>\n",
       "  </thead>\n",
       "  <tbody>\n",
       "    <tr>\n",
       "      <th>0</th>\n",
       "      <td>a court of wings and ruin</td>\n",
       "      <td>4.51</td>\n",
       "      <td>Fantasy, Romance, Young Adult, New Adult</td>\n",
       "      <td>\\r\\nthat’s the number of times that the word “...</td>\n",
       "    </tr>\n",
       "    <tr>\n",
       "      <th>1</th>\n",
       "      <td>a court of wings and ruin</td>\n",
       "      <td>4.51</td>\n",
       "      <td>Fantasy, Romance, Young Adult, New Adult</td>\n",
       "      <td>i need a black silk robe and a balcony to wear...</td>\n",
       "    </tr>\n",
       "    <tr>\n",
       "      <th>2</th>\n",
       "      <td>a court of wings and ruin</td>\n",
       "      <td>4.51</td>\n",
       "      <td>Fantasy, Romance, Young Adult, New Adult</td>\n",
       "      <td>this book totally wrecked me in the best possi...</td>\n",
       "    </tr>\n",
       "    <tr>\n",
       "      <th>3</th>\n",
       "      <td>a court of wings and ruin</td>\n",
       "      <td>4.51</td>\n",
       "      <td>Fantasy, Romance, Young Adult, New Adult</td>\n",
       "      <td>stars\\r\\nrhys stepped off the stairs and took...</td>\n",
       "    </tr>\n",
       "    <tr>\n",
       "      <th>4</th>\n",
       "      <td>a court of wings and ruin</td>\n",
       "      <td>4.51</td>\n",
       "      <td>Fantasy, Romance, Young Adult, New Adult</td>\n",
       "      <td>i wish so much that i could tell you i loved t...</td>\n",
       "    </tr>\n",
       "  </tbody>\n",
       "</table>\n",
       "</div>"
      ],
      "text/plain": [
       "                  book_title  book_rating  \\\n",
       "0  a court of wings and ruin         4.51   \n",
       "1  a court of wings and ruin         4.51   \n",
       "2  a court of wings and ruin         4.51   \n",
       "3  a court of wings and ruin         4.51   \n",
       "4  a court of wings and ruin         4.51   \n",
       "\n",
       "                                      genre  \\\n",
       "0  Fantasy, Romance, Young Adult, New Adult   \n",
       "1  Fantasy, Romance, Young Adult, New Adult   \n",
       "2  Fantasy, Romance, Young Adult, New Adult   \n",
       "3  Fantasy, Romance, Young Adult, New Adult   \n",
       "4  Fantasy, Romance, Young Adult, New Adult   \n",
       "\n",
       "                                              review  \n",
       "0  \\r\\nthat’s the number of times that the word “...  \n",
       "1  i need a black silk robe and a balcony to wear...  \n",
       "2  this book totally wrecked me in the best possi...  \n",
       "3   stars\\r\\nrhys stepped off the stairs and took...  \n",
       "4  i wish so much that i could tell you i loved t...  "
      ]
     },
     "execution_count": 26,
     "metadata": {},
     "output_type": "execute_result"
    }
   ],
   "source": [
    "df['review'] = df['review'].str.lower()\n",
    "df['book_title'] = df['book_title'].str.lower()\n",
    "\n",
    "df.head()"
   ]
  },
  {
   "cell_type": "markdown",
   "metadata": {},
   "source": [
    "Stopwords Removing"
   ]
  },
  {
   "cell_type": "code",
   "execution_count": 27,
   "metadata": {},
   "outputs": [
    {
     "data": {
      "text/plain": [
       "\"i, me, my, myself, we, our, ours, ourselves, you, you're, you've, you'll, you'd, your, yours, yourself, yourselves, he, him, his, himself, she, she's, her, hers, herself, it, it's, its, itself, they, them, their, theirs, themselves, what, which, who, whom, this, that, that'll, these, those, am, is, are, was, were, be, been, being, have, has, had, having, do, does, did, doing, a, an, the, and, but, if, or, because, as, until, while, of, at, by, for, with, about, against, between, into, through, during, before, after, above, below, to, from, up, down, in, out, on, off, over, under, again, further, then, once, here, there, when, where, why, how, all, any, both, each, few, more, most, other, some, such, no, nor, not, only, own, same, so, than, too, very, s, t, can, will, just, don, don't, should, should've, now, d, ll, m, o, re, ve, y, ain, aren, aren't, couldn, couldn't, didn, didn't, doesn, doesn't, hadn, hadn't, hasn, hasn't, haven, haven't, isn, isn't, ma, mightn, mightn't, mustn, mustn't, needn, needn't, shan, shan't, shouldn, shouldn't, wasn, wasn't, weren, weren't, won, won't, wouldn, wouldn't\""
      ]
     },
     "execution_count": 27,
     "metadata": {},
     "output_type": "execute_result"
    }
   ],
   "source": [
    "from nltk.corpus import stopwords\n",
    "\", \".join(stopwords.words('english'))"
   ]
  },
  {
   "cell_type": "code",
   "execution_count": 28,
   "metadata": {},
   "outputs": [
    {
     "name": "stdout",
     "output_type": "stream",
     "text": [
      "Data trainstop words removing... \n"
     ]
    },
    {
     "data": {
      "text/html": [
       "<div>\n",
       "<style scoped>\n",
       "    .dataframe tbody tr th:only-of-type {\n",
       "        vertical-align: middle;\n",
       "    }\n",
       "\n",
       "    .dataframe tbody tr th {\n",
       "        vertical-align: top;\n",
       "    }\n",
       "\n",
       "    .dataframe thead th {\n",
       "        text-align: right;\n",
       "    }\n",
       "</style>\n",
       "<table border=\"1\" class=\"dataframe\">\n",
       "  <thead>\n",
       "    <tr style=\"text-align: right;\">\n",
       "      <th></th>\n",
       "      <th>book_title</th>\n",
       "      <th>book_rating</th>\n",
       "      <th>genre</th>\n",
       "      <th>review</th>\n",
       "    </tr>\n",
       "  </thead>\n",
       "  <tbody>\n",
       "    <tr>\n",
       "      <th>0</th>\n",
       "      <td>a court of wings and ruin</td>\n",
       "      <td>4.51</td>\n",
       "      <td>Fantasy, Romance, Young Adult, New Adult</td>\n",
       "      <td>that’s number times word “mate” hellish forms ...</td>\n",
       "    </tr>\n",
       "    <tr>\n",
       "      <th>1</th>\n",
       "      <td>a court of wings and ruin</td>\n",
       "      <td>4.51</td>\n",
       "      <td>Fantasy, Romance, Young Adult, New Adult</td>\n",
       "      <td>need black silk robe balcony wear i’m gonna dr...</td>\n",
       "    </tr>\n",
       "    <tr>\n",
       "      <th>2</th>\n",
       "      <td>a court of wings and ruin</td>\n",
       "      <td>4.51</td>\n",
       "      <td>Fantasy, Romance, Young Adult, New Adult</td>\n",
       "      <td>book totally wrecked best possible way i’m thr...</td>\n",
       "    </tr>\n",
       "    <tr>\n",
       "      <th>3</th>\n",
       "      <td>a court of wings and ruin</td>\n",
       "      <td>4.51</td>\n",
       "      <td>Fantasy, Romance, Young Adult, New Adult</td>\n",
       "      <td>stars rhys stepped stairs took hand night triu...</td>\n",
       "    </tr>\n",
       "    <tr>\n",
       "      <th>4</th>\n",
       "      <td>a court of wings and ruin</td>\n",
       "      <td>4.51</td>\n",
       "      <td>Fantasy, Romance, Young Adult, New Adult</td>\n",
       "      <td>wish much could tell loved book didnt thinking...</td>\n",
       "    </tr>\n",
       "    <tr>\n",
       "      <th>5</th>\n",
       "      <td>a court of wings and ruin</td>\n",
       "      <td>4.51</td>\n",
       "      <td>Fantasy, Romance, Young Adult, New Adult</td>\n",
       "      <td>i’m wrecked court wings ruin best conclusion c...</td>\n",
       "    </tr>\n",
       "    <tr>\n",
       "      <th>6</th>\n",
       "      <td>a court of wings and ruin</td>\n",
       "      <td>4.51</td>\n",
       "      <td>Fantasy, Romance, Young Adult, New Adult</td>\n",
       "      <td>yay another one books gr award ❤️ omgthis book...</td>\n",
       "    </tr>\n",
       "    <tr>\n",
       "      <th>7</th>\n",
       "      <td>a court of wings and ruin</td>\n",
       "      <td>4.51</td>\n",
       "      <td>Fantasy, Romance, Young Adult, New Adult</td>\n",
       "      <td>congratulationswinner best young adult fantasy...</td>\n",
       "    </tr>\n",
       "    <tr>\n",
       "      <th>8</th>\n",
       "      <td>a court of wings and ruin</td>\n",
       "      <td>4.51</td>\n",
       "      <td>Fantasy, Romance, Young Adult, New Adult</td>\n",
       "      <td>early days release ill say little spoil nothin...</td>\n",
       "    </tr>\n",
       "    <tr>\n",
       "      <th>9</th>\n",
       "      <td>a court of wings and ruin</td>\n",
       "      <td>4.51</td>\n",
       "      <td>Fantasy, Romance, Young Adult, New Adult</td>\n",
       "      <td>glorious thrilling completely enthralling acow...</td>\n",
       "    </tr>\n",
       "    <tr>\n",
       "      <th>10</th>\n",
       "      <td>a court of wings and ruin</td>\n",
       "      <td>4.51</td>\n",
       "      <td>Fantasy, Romance, Young Adult, New Adult</td>\n",
       "      <td>need remind civil don’t good kids “you high lo...</td>\n",
       "    </tr>\n",
       "    <tr>\n",
       "      <th>11</th>\n",
       "      <td>a court of wings and ruin</td>\n",
       "      <td>4.51</td>\n",
       "      <td>Fantasy, Romance, Young Adult, New Adult</td>\n",
       "      <td>come adventure rest always died finished hours...</td>\n",
       "    </tr>\n",
       "    <tr>\n",
       "      <th>12</th>\n",
       "      <td>a court of wings and ruin</td>\n",
       "      <td>4.51</td>\n",
       "      <td>Fantasy, Romance, Young Adult, New Adult</td>\n",
       "      <td>book youre highly anticipating cover title syn...</td>\n",
       "    </tr>\n",
       "    <tr>\n",
       "      <th>13</th>\n",
       "      <td>a court of wings and ruin</td>\n",
       "      <td>4.51</td>\n",
       "      <td>Fantasy, Romance, Young Adult, New Adult</td>\n",
       "      <td>bibliobabble httpsyoutubeyuvdjavvs review disc...</td>\n",
       "    </tr>\n",
       "    <tr>\n",
       "      <th>14</th>\n",
       "      <td>a court of wings and ruin</td>\n",
       "      <td>4.51</td>\n",
       "      <td>Fantasy, Romance, Young Adult, New Adult</td>\n",
       "      <td>cant handle rtc may rd step denial cant year m...</td>\n",
       "    </tr>\n",
       "    <tr>\n",
       "      <th>15</th>\n",
       "      <td>a court of wings and ruin</td>\n",
       "      <td>4.51</td>\n",
       "      <td>Fantasy, Romance, Young Adult, New Adult</td>\n",
       "      <td>reread x heart pain full love series dont know...</td>\n",
       "    </tr>\n",
       "    <tr>\n",
       "      <th>16</th>\n",
       "      <td>a court of wings and ruin</td>\n",
       "      <td>4.51</td>\n",
       "      <td>Fantasy, Romance, Young Adult, New Adult</td>\n",
       "      <td>know youre dedicated fan mark untitled book se...</td>\n",
       "    </tr>\n",
       "    <tr>\n",
       "      <th>17</th>\n",
       "      <td>a court of wings and ruin</td>\n",
       "      <td>4.51</td>\n",
       "      <td>Fantasy, Romance, Young Adult, New Adult</td>\n",
       "      <td>stars remember wolf cannot caged want print pi...</td>\n",
       "    </tr>\n",
       "    <tr>\n",
       "      <th>18</th>\n",
       "      <td>a court of wings and ruin</td>\n",
       "      <td>4.51</td>\n",
       "      <td>Fantasy, Romance, Young Adult, New Adult</td>\n",
       "      <td>stars say anything must say fuck vulgar gestur...</td>\n",
       "    </tr>\n",
       "    <tr>\n",
       "      <th>19</th>\n",
       "      <td>a court of wings and ruin</td>\n",
       "      <td>4.51</td>\n",
       "      <td>Fantasy, Romance, Young Adult, New Adult</td>\n",
       "      <td>court thorns roses ★★★★ court mist fury ★★★★★ ...</td>\n",
       "    </tr>\n",
       "  </tbody>\n",
       "</table>\n",
       "</div>"
      ],
      "text/plain": [
       "                   book_title  book_rating  \\\n",
       "0   a court of wings and ruin         4.51   \n",
       "1   a court of wings and ruin         4.51   \n",
       "2   a court of wings and ruin         4.51   \n",
       "3   a court of wings and ruin         4.51   \n",
       "4   a court of wings and ruin         4.51   \n",
       "5   a court of wings and ruin         4.51   \n",
       "6   a court of wings and ruin         4.51   \n",
       "7   a court of wings and ruin         4.51   \n",
       "8   a court of wings and ruin         4.51   \n",
       "9   a court of wings and ruin         4.51   \n",
       "10  a court of wings and ruin         4.51   \n",
       "11  a court of wings and ruin         4.51   \n",
       "12  a court of wings and ruin         4.51   \n",
       "13  a court of wings and ruin         4.51   \n",
       "14  a court of wings and ruin         4.51   \n",
       "15  a court of wings and ruin         4.51   \n",
       "16  a court of wings and ruin         4.51   \n",
       "17  a court of wings and ruin         4.51   \n",
       "18  a court of wings and ruin         4.51   \n",
       "19  a court of wings and ruin         4.51   \n",
       "\n",
       "                                       genre  \\\n",
       "0   Fantasy, Romance, Young Adult, New Adult   \n",
       "1   Fantasy, Romance, Young Adult, New Adult   \n",
       "2   Fantasy, Romance, Young Adult, New Adult   \n",
       "3   Fantasy, Romance, Young Adult, New Adult   \n",
       "4   Fantasy, Romance, Young Adult, New Adult   \n",
       "5   Fantasy, Romance, Young Adult, New Adult   \n",
       "6   Fantasy, Romance, Young Adult, New Adult   \n",
       "7   Fantasy, Romance, Young Adult, New Adult   \n",
       "8   Fantasy, Romance, Young Adult, New Adult   \n",
       "9   Fantasy, Romance, Young Adult, New Adult   \n",
       "10  Fantasy, Romance, Young Adult, New Adult   \n",
       "11  Fantasy, Romance, Young Adult, New Adult   \n",
       "12  Fantasy, Romance, Young Adult, New Adult   \n",
       "13  Fantasy, Romance, Young Adult, New Adult   \n",
       "14  Fantasy, Romance, Young Adult, New Adult   \n",
       "15  Fantasy, Romance, Young Adult, New Adult   \n",
       "16  Fantasy, Romance, Young Adult, New Adult   \n",
       "17  Fantasy, Romance, Young Adult, New Adult   \n",
       "18  Fantasy, Romance, Young Adult, New Adult   \n",
       "19  Fantasy, Romance, Young Adult, New Adult   \n",
       "\n",
       "                                               review  \n",
       "0   that’s number times word “mate” hellish forms ...  \n",
       "1   need black silk robe balcony wear i’m gonna dr...  \n",
       "2   book totally wrecked best possible way i’m thr...  \n",
       "3   stars rhys stepped stairs took hand night triu...  \n",
       "4   wish much could tell loved book didnt thinking...  \n",
       "5   i’m wrecked court wings ruin best conclusion c...  \n",
       "6   yay another one books gr award ❤️ omgthis book...  \n",
       "7   congratulationswinner best young adult fantasy...  \n",
       "8   early days release ill say little spoil nothin...  \n",
       "9   glorious thrilling completely enthralling acow...  \n",
       "10  need remind civil don’t good kids “you high lo...  \n",
       "11  come adventure rest always died finished hours...  \n",
       "12  book youre highly anticipating cover title syn...  \n",
       "13  bibliobabble httpsyoutubeyuvdjavvs review disc...  \n",
       "14  cant handle rtc may rd step denial cant year m...  \n",
       "15  reread x heart pain full love series dont know...  \n",
       "16  know youre dedicated fan mark untitled book se...  \n",
       "17  stars remember wolf cannot caged want print pi...  \n",
       "18  stars say anything must say fuck vulgar gestur...  \n",
       "19  court thorns roses ★★★★ court mist fury ★★★★★ ...  "
      ]
     },
     "execution_count": 28,
     "metadata": {},
     "output_type": "execute_result"
    }
   ],
   "source": [
    "cachedStopWords = set(stopwords.words(\"english\"))\n",
    "for i in range (len(df)):\n",
    "    meaningful = df['review'].iloc[i]\n",
    "    meaningful = \" \".join([word for word in meaningful.split() if word not in cachedStopWords])\n",
    "    df['review'].iloc[i]=meaningful\n",
    "print ('Data trainstop words removing... ')\n",
    "df.head(20)"
   ]
  },
  {
   "cell_type": "code",
   "execution_count": 29,
   "metadata": {},
   "outputs": [],
   "source": [
    "df.to_csv(\"dfReview.csv\")"
   ]
  },
  {
   "cell_type": "code",
   "execution_count": 30,
   "metadata": {},
   "outputs": [],
   "source": [
    "df = pd.read_csv(\"dfReview.csv\")"
   ]
  },
  {
   "cell_type": "markdown",
   "metadata": {},
   "source": [
    "4. Training Models"
   ]
  },
  {
   "cell_type": "code",
   "execution_count": null,
   "metadata": {},
   "outputs": [],
   "source": []
  }
 ],
 "metadata": {
  "kernelspec": {
   "display_name": "Python 3",
   "language": "python",
   "name": "python3"
  },
  "language_info": {
   "codemirror_mode": {
    "name": "ipython",
    "version": 3
   },
   "file_extension": ".py",
   "mimetype": "text/x-python",
   "name": "python",
   "nbconvert_exporter": "python",
   "pygments_lexer": "ipython3",
   "version": "3.6.5"
  }
 },
 "nbformat": 4,
 "nbformat_minor": 2
}
