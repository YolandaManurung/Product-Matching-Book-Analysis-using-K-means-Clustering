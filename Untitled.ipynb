{
 "cells": [
  {
   "cell_type": "code",
   "execution_count": 1,
   "metadata": {},
   "outputs": [],
   "source": [
    "import warnings\n",
    "warnings.filterwarnings(\"ignore\")"
   ]
  },
  {
   "cell_type": "code",
   "execution_count": 12,
   "metadata": {},
   "outputs": [],
   "source": [
    "import pandas as pd\n",
    "import matplotlib.pyplot as plt\n",
    "import numpy as np\n",
    "import random as rd\n",
    "from sklearn.feature_extraction.text import TfidfVectorizer\n",
    "from sklearn.cluster import KMeans\n",
    "from sklearn.metrics import adjusted_rand_score"
   ]
  },
  {
   "cell_type": "code",
   "execution_count": 4,
   "metadata": {},
   "outputs": [
    {
     "data": {
      "text/html": [
       "<div>\n",
       "<style scoped>\n",
       "    .dataframe tbody tr th:only-of-type {\n",
       "        vertical-align: middle;\n",
       "    }\n",
       "\n",
       "    .dataframe tbody tr th {\n",
       "        vertical-align: top;\n",
       "    }\n",
       "\n",
       "    .dataframe thead th {\n",
       "        text-align: right;\n",
       "    }\n",
       "</style>\n",
       "<table border=\"1\" class=\"dataframe\">\n",
       "  <thead>\n",
       "    <tr style=\"text-align: right;\">\n",
       "      <th></th>\n",
       "      <th>Unnamed: 0</th>\n",
       "      <th>book_title</th>\n",
       "      <th>book_rating</th>\n",
       "      <th>genre</th>\n",
       "      <th>review</th>\n",
       "    </tr>\n",
       "  </thead>\n",
       "  <tbody>\n",
       "    <tr>\n",
       "      <th>0</th>\n",
       "      <td>0</td>\n",
       "      <td>a court of wings and ruin</td>\n",
       "      <td>4.51</td>\n",
       "      <td>Fantasy, Romance, Young Adult, New Adult</td>\n",
       "      <td>that’s number times word “mate” hellish forms ...</td>\n",
       "    </tr>\n",
       "    <tr>\n",
       "      <th>1</th>\n",
       "      <td>1</td>\n",
       "      <td>a court of wings and ruin</td>\n",
       "      <td>4.51</td>\n",
       "      <td>Fantasy, Romance, Young Adult, New Adult</td>\n",
       "      <td>need black silk robe balcony wear i’m gonna dr...</td>\n",
       "    </tr>\n",
       "    <tr>\n",
       "      <th>2</th>\n",
       "      <td>2</td>\n",
       "      <td>a court of wings and ruin</td>\n",
       "      <td>4.51</td>\n",
       "      <td>Fantasy, Romance, Young Adult, New Adult</td>\n",
       "      <td>book totally wrecked best possible way i’m thr...</td>\n",
       "    </tr>\n",
       "    <tr>\n",
       "      <th>3</th>\n",
       "      <td>3</td>\n",
       "      <td>a court of wings and ruin</td>\n",
       "      <td>4.51</td>\n",
       "      <td>Fantasy, Romance, Young Adult, New Adult</td>\n",
       "      <td>stars rhys stepped stairs took hand night triu...</td>\n",
       "    </tr>\n",
       "    <tr>\n",
       "      <th>4</th>\n",
       "      <td>4</td>\n",
       "      <td>a court of wings and ruin</td>\n",
       "      <td>4.51</td>\n",
       "      <td>Fantasy, Romance, Young Adult, New Adult</td>\n",
       "      <td>wish much could tell loved book didnt thinking...</td>\n",
       "    </tr>\n",
       "  </tbody>\n",
       "</table>\n",
       "</div>"
      ],
      "text/plain": [
       "   Unnamed: 0                 book_title  book_rating  \\\n",
       "0           0  a court of wings and ruin         4.51   \n",
       "1           1  a court of wings and ruin         4.51   \n",
       "2           2  a court of wings and ruin         4.51   \n",
       "3           3  a court of wings and ruin         4.51   \n",
       "4           4  a court of wings and ruin         4.51   \n",
       "\n",
       "                                      genre  \\\n",
       "0  Fantasy, Romance, Young Adult, New Adult   \n",
       "1  Fantasy, Romance, Young Adult, New Adult   \n",
       "2  Fantasy, Romance, Young Adult, New Adult   \n",
       "3  Fantasy, Romance, Young Adult, New Adult   \n",
       "4  Fantasy, Romance, Young Adult, New Adult   \n",
       "\n",
       "                                              review  \n",
       "0  that’s number times word “mate” hellish forms ...  \n",
       "1  need black silk robe balcony wear i’m gonna dr...  \n",
       "2  book totally wrecked best possible way i’m thr...  \n",
       "3  stars rhys stepped stairs took hand night triu...  \n",
       "4  wish much could tell loved book didnt thinking...  "
      ]
     },
     "execution_count": 4,
     "metadata": {},
     "output_type": "execute_result"
    }
   ],
   "source": [
    "book = pd.read_csv('./dfReview.csv')\n",
    "book.head()"
   ]
  },
  {
   "cell_type": "code",
   "execution_count": 13,
   "metadata": {},
   "outputs": [
    {
     "data": {
      "text/plain": [
       "KMeans(max_iter=100, n_clusters=2, n_init=1)"
      ]
     },
     "execution_count": 13,
     "metadata": {},
     "output_type": "execute_result"
    }
   ],
   "source": [
    "vectorizer = TfidfVectorizer(stop_words='english')\n",
    "X = vectorizer.fit_transform(book[[\"book_rating\", \"genre\"]])\n",
    "\n",
    "true_k = 2\n",
    "model = KMeans(n_clusters=true_k, init='k-means++', max_iter=100, n_init=1)\n",
    "model.fit(X)"
   ]
  },
  {
   "cell_type": "code",
   "execution_count": 28,
   "metadata": {},
   "outputs": [
    {
     "name": "stdout",
     "output_type": "stream",
     "text": [
      "Top terms per cluster:\n",
      "Cluster 0:\n",
      " genre\n",
      " book_rating\n",
      "Cluster 1:\n",
      " book_rating\n",
      " genre\n"
     ]
    }
   ],
   "source": [
    "print(\"Top terms per cluster:\")\n",
    "order_centroids = model.cluster_centers_.argsort()[:, ::-1]\n",
    "terms = vectorizer.get_feature_names()\n",
    "for i in range(true_k):\n",
    "    print(\"Cluster %d:\" % i),\n",
    "    for ind in order_centroids[i, :10]:\n",
    "        print(' %s' % terms[ind]),\n",
    "    print"
   ]
  },
  {
   "cell_type": "code",
   "execution_count": null,
   "metadata": {},
   "outputs": [],
   "source": []
  }
 ],
 "metadata": {
  "kernelspec": {
   "display_name": "Python 3",
   "language": "python",
   "name": "python3"
  },
  "language_info": {
   "codemirror_mode": {
    "name": "ipython",
    "version": 3
   },
   "file_extension": ".py",
   "mimetype": "text/x-python",
   "name": "python",
   "nbconvert_exporter": "python",
   "pygments_lexer": "ipython3",
   "version": "3.6.5"
  }
 },
 "nbformat": 4,
 "nbformat_minor": 4
}
